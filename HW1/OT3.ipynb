{
 "cells": [
  {
   "cell_type": "code",
   "execution_count": 1,
   "metadata": {},
   "outputs": [],
   "source": [
    "import pandas as pd\n",
    "import numpy as np"
   ]
  },
  {
   "cell_type": "code",
   "execution_count": 2,
   "metadata": {},
   "outputs": [],
   "source": [
    "train_url = \"http://s3.amazonaws.com/assets.datacamp.com/course/Kaggle/train.csv\"\n",
    "train = pd.read_csv(train_url) #training set\n",
    "test_url = \"http://s3.amazonaws.com/assets.datacamp.com/course/Kaggle/test.csv\"\n",
    "test = pd.read_csv(test_url) #test set"
   ]
  },
  {
   "cell_type": "code",
   "execution_count": 3,
   "metadata": {},
   "outputs": [],
   "source": [
    "train[\"Age\"] = train[\"Age\"].fillna(train[\"Age\"].median())\n",
    "train.loc[train[\"Embarked\"] == \"S\", \"Embarked\"] = 0\n",
    "train.loc[train[\"Embarked\"] == \"C\", \"Embarked\"] = 1\n",
    "train.loc[train[\"Embarked\"] == \"Q\", \"Embarked\"] = 2\n",
    "train[\"Embarked\"] = train[\"Embarked\"].fillna(train[\"Embarked\"].mode()[0])"
   ]
  },
  {
   "cell_type": "code",
   "execution_count": 4,
   "metadata": {},
   "outputs": [],
   "source": [
    "train.loc[train[\"Sex\"] == \"female\", \"Sex\"] = 1\n",
    "train.loc[train[\"Sex\"] == \"male\", \"Sex\"] = 0"
   ]
  },
  {
   "cell_type": "code",
   "execution_count": 5,
   "metadata": {},
   "outputs": [],
   "source": [
    "def dj_dtheta(theta,X,Y,j):\n",
    "    result=0\n",
    "    for i in range(np.size(Y)):\n",
    "        result+=((Y[i]-np.dot(theta,X[i]))*X[i,j])\n",
    "    return result\n",
    "    \n",
    "    \n",
    "def grad_des(X,Y,theta):\n",
    "    lnr=0.0001\n",
    "    epoch=50000\n",
    "    for i in range(epoch):\n",
    "        if(i%5000==0):\n",
    "            print(i,theta)\n",
    "        new_theta=[]\n",
    "        for j in range(X.shape[1]):\n",
    "            a=theta[j]+lnr*dj_dtheta(theta,X,Y,j)\n",
    "            new_theta.append(a)\n",
    "        theta=np.array(new_theta)\n",
    "    return theta"
   ]
  },
  {
   "cell_type": "code",
   "execution_count": 6,
   "metadata": {},
   "outputs": [],
   "source": [
    "data = np.array(train[[\"Pclass\",\"Sex\",\"Age\",\"Embarked\"]].values, dtype = float)\n",
    "data=np.insert(data, 0, 1, axis=1)\n",
    "normalizer=max(data[:,[3]])\n",
    "data[:,[3]]=data[:,[3]]/normalizer"
   ]
  },
  {
   "cell_type": "code",
   "execution_count": 7,
   "metadata": {},
   "outputs": [
    {
     "name": "stdout",
     "output_type": "stream",
     "text": [
      "0 [0 0 0 0 0]\n",
      "5000 [ 0.77631199 -0.18840034  0.49089389 -0.40399736  0.04911305]\n",
      "10000 [ 0.77654429 -0.18843942  0.49086713 -0.40434854  0.04911345]\n",
      "15000 [ 0.77654442 -0.18843944  0.49086711 -0.40434874  0.04911346]\n",
      "20000 [ 0.77654442 -0.18843944  0.49086711 -0.40434874  0.04911346]\n",
      "25000 [ 0.77654442 -0.18843944  0.49086711 -0.40434874  0.04911346]\n",
      "30000 [ 0.77654442 -0.18843944  0.49086711 -0.40434874  0.04911346]\n",
      "35000 [ 0.77654442 -0.18843944  0.49086711 -0.40434874  0.04911346]\n",
      "40000 [ 0.77654442 -0.18843944  0.49086711 -0.40434874  0.04911346]\n",
      "45000 [ 0.77654442 -0.18843944  0.49086711 -0.40434874  0.04911346]\n",
      "theta [ 0.77654442 -0.18843944  0.49086711 -0.40434874  0.04911346]\n"
     ]
    }
   ],
   "source": [
    "theta=np.array([0,0,0,0,0])\n",
    "Y=np.array(train[\"Survived\"].values, dtype = float)\n",
    "theta=grad_des(data,Y,theta)\n",
    "print(\"theta\",theta)"
   ]
  },
  {
   "cell_type": "code",
   "execution_count": 8,
   "metadata": {},
   "outputs": [],
   "source": [
    "def isSurvived(theta,X,m):\n",
    "    result=[]\n",
    "    for i in range(m):\n",
    "        ans=(np.dot(theta,X[i]))\n",
    "        if(ans>=0.5):\n",
    "            ans=1\n",
    "        else:\n",
    "            ans=0\n",
    "        result.append(ans)\n",
    "    return result\n",
    "        \n",
    "\n",
    "dic=dict()\n",
    "dic[\"PassengerId\"]=np.array(test[\"PassengerId\"].values, dtype = int)\n",
    "test.loc[test[\"Sex\"] == \"female\", \"Sex\"] = 1\n",
    "test.loc[test[\"Sex\"] == \"male\", \"Sex\"] = 0\n",
    "test.loc[test[\"Embarked\"] == \"S\", \"Embarked\"] = 0\n",
    "test.loc[test[\"Embarked\"] == \"C\", \"Embarked\"] = 1\n",
    "test.loc[test[\"Embarked\"] == \"Q\", \"Embarked\"] = 2\n",
    "data=np.array(test[[\"Pclass\",\"Sex\",\"Age\",\"Embarked\"]].values, dtype = float)\n",
    "data=np.insert(data, 0, 1, axis=1)\n",
    "data[:,[3]]=data[:,[3]]/normalizer\n",
    "dic[\"Survived\"]=isSurvived(theta,data,418)\n",
    "df=pd.DataFrame(dic)\n",
    "df.to_csv(\"OT3.csv\",index=False)\n",
    "\n",
    "\n",
    "\n",
    "\n",
    "\n",
    "\n"
   ]
  }
 ],
 "metadata": {
  "kernelspec": {
   "display_name": "Python 3",
   "language": "python",
   "name": "python3"
  },
  "language_info": {
   "codemirror_mode": {
    "name": "ipython",
    "version": 3
   },
   "file_extension": ".py",
   "mimetype": "text/x-python",
   "name": "python",
   "nbconvert_exporter": "python",
   "pygments_lexer": "ipython3",
   "version": "3.9.12"
  }
 },
 "nbformat": 4,
 "nbformat_minor": 2
}
