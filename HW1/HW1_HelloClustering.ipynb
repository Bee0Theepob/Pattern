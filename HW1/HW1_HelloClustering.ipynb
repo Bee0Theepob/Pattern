{
 "cells": [
  {
   "cell_type": "code",
   "execution_count": 1,
   "metadata": {},
   "outputs": [],
   "source": [
    "import math\n",
    "\n",
    "def distance(x1,y1,x2,y2):\n",
    "    return math.sqrt((x2-x1)**2+(y2-y1)**2)"
   ]
  },
  {
   "cell_type": "code",
   "execution_count": 2,
   "metadata": {},
   "outputs": [],
   "source": [
    "def minDisToCen(data,centroids):\n",
    "    x,y=data[0],data[1]\n",
    "    result=0\n",
    "    dis=distance(x,y,centroids[0][0],centroids[0][1])\n",
    "    for i in range(1,len(centroids)):\n",
    "        tmp=distance(x,y,centroids[i][0],centroids[i][1])\n",
    "        if(tmp<dis):\n",
    "            dis=tmp\n",
    "            result=i\n",
    "    return result"
   ]
  },
  {
   "cell_type": "code",
   "execution_count": 3,
   "metadata": {},
   "outputs": [],
   "source": [
    "def assign(datas,centroids):\n",
    "    newgroups=dict()\n",
    "    for i in range(len(centroids)):\n",
    "        newgroups[i]=[]\n",
    "    for point in datas:\n",
    "        idx=minDisToCen(point,centroids)\n",
    "        newgroups[idx].append(point)\n",
    "    return newgroups        \n",
    "            \n",
    "def update(groups,centroids):\n",
    "    newcen=[]   \n",
    "    for i in range(len(centroids)):\n",
    "        avx,avy=0,0\n",
    "        for j in range(len(groups[i])):\n",
    "            avx+=groups[i][j][0]\n",
    "            avy+=groups[i][j][1]\n",
    "        avx/=len(groups[i])\n",
    "        avy/=len(groups[i])\n",
    "        newcen.append([avx,avy])\n",
    "        \n",
    "    return newcen,newcen==centroids\n",
    "\n",
    "def printBetweenProcess(groups):\n",
    "    print(\"--------------------------------\")\n",
    "    for idx in range(len(groups)):\n",
    "        print(str(idx) + \" : \"+str(groups[idx]))\n",
    "    print(\"centroids : \"+str(centroids))    \n",
    "    print(\"--------------------------------\")"
   ]
  },
  {
   "cell_type": "code",
   "execution_count": 4,
   "metadata": {},
   "outputs": [
    {
     "name": "stdout",
     "output_type": "stream",
     "text": [
      "--------------------------------\n",
      "0 : [[3, 3]]\n",
      "1 : [[2, 2]]\n",
      "2 : [[7, 7]]\n",
      "centroids : [[3, 3], [2, 2], [7, 7]]\n",
      "--------------------------------\n",
      "--------------------------------\n",
      "0 : [[3, 3]]\n",
      "1 : [[1, 2], [2, 2], [-3, -3], [-2, -4], [-7, -7]]\n",
      "2 : [[8, 8], [6, 6], [7, 7]]\n",
      "centroids : [[3.0, 3.0], [-1.8, -2.0], [7.0, 7.0]]\n",
      "--------------------------------\n",
      "--------------------------------\n",
      "0 : [[1, 2], [3, 3], [2, 2]]\n",
      "1 : [[-3, -3], [-2, -4], [-7, -7]]\n",
      "2 : [[8, 8], [6, 6], [7, 7]]\n",
      "centroids : [[2.0, 2.3333333333333335], [-4.0, -4.666666666666667], [7.0, 7.0]]\n",
      "--------------------------------\n",
      "--------------------------------\n",
      "0 : [[1, 2], [3, 3], [2, 2]]\n",
      "1 : [[-3, -3], [-2, -4], [-7, -7]]\n",
      "2 : [[8, 8], [6, 6], [7, 7]]\n",
      "centroids : [[2.0, 2.3333333333333335], [-4.0, -4.666666666666667], [7.0, 7.0]]\n",
      "--------------------------------\n"
     ]
    }
   ],
   "source": [
    "isEnd=False\n",
    "Datas=[[1,2],[3,3],[2,2],[8,8],[6,6],[7,7],[-3,-3],[-2,-4],[-7,-7]]\n",
    "centroids=[]\n",
    "for i in range(int(input(\"k = \"))):#initialize k centroids\n",
    "    centroids.append([int(x) for x in input(\"x,y = \").split()])\n",
    "groups=dict()\n",
    "\n",
    "for idx,point in enumerate(centroids):\n",
    "    groups[idx]=[point]\n",
    "    \n",
    "printBetweenProcess(groups)\n",
    "while (not isEnd):\n",
    "    groups=assign(Datas,centroids)\n",
    "    centroids,isEnd=update(groups,centroids)\n",
    "    printBetweenProcess(groups)"
   ]
  }
 ],
 "metadata": {
  "kernelspec": {
   "display_name": "Python 3",
   "language": "python",
   "name": "python3"
  },
  "language_info": {
   "codemirror_mode": {
    "name": "ipython",
    "version": 3
   },
   "file_extension": ".py",
   "mimetype": "text/x-python",
   "name": "python",
   "nbconvert_exporter": "python",
   "pygments_lexer": "ipython3",
   "version": "3.11.2"
  }
 },
 "nbformat": 4,
 "nbformat_minor": 2
}
