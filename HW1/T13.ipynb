{
 "cells": [
  {
   "cell_type": "code",
   "execution_count": 18,
   "metadata": {},
   "outputs": [],
   "source": [
    "import pandas as pd\n",
    "import numpy as np"
   ]
  },
  {
   "cell_type": "code",
   "execution_count": 20,
   "metadata": {},
   "outputs": [],
   "source": [
    "train_url = \"http://s3.amazonaws.com/assets.datacamp.com/course/Kaggle/train.csv\"\n",
    "train = pd.read_csv(train_url) #training set\n",
    "test_url = \"http://s3.amazonaws.com/assets.datacamp.com/course/Kaggle/test.csv\"\n",
    "test = pd.read_csv(test_url) #test set"
   ]
  },
  {
   "cell_type": "code",
   "execution_count": 21,
   "metadata": {},
   "outputs": [],
   "source": [
    "train[\"Age\"] = train[\"Age\"].fillna(train[\"Age\"].median())"
   ]
  },
  {
   "cell_type": "code",
   "execution_count": 22,
   "metadata": {},
   "outputs": [],
   "source": [
    "train.loc[train[\"Embarked\"] == \"S\", \"Embarked\"] = 0\n",
    "train.loc[train[\"Embarked\"] == \"C\", \"Embarked\"] = 1\n",
    "train.loc[train[\"Embarked\"] == \"Q\", \"Embarked\"] = 2\n",
    "train[\"Embarked\"] = train[\"Embarked\"].fillna(train[\"Embarked\"].mode()[0])"
   ]
  },
  {
   "cell_type": "code",
   "execution_count": 23,
   "metadata": {},
   "outputs": [],
   "source": [
    "train.loc[train[\"Sex\"] == \"female\", \"Sex\"] = 0\n",
    "train.loc[train[\"Sex\"] == \"male\", \"Sex\"] = 1"
   ]
  },
  {
   "cell_type": "code",
   "execution_count": 24,
   "metadata": {},
   "outputs": [],
   "source": [
    "def h(x):\n",
    "    return 1/(1+np.exp(-x))\n",
    "\n",
    "def dj_dtheta(theta,X,Y,j):\n",
    "    result=0\n",
    "    for i in range(np.size(Y)):\n",
    "        error=Y[i]-h(np.dot(theta,X[i]))\n",
    "        result+=(error*X[i,j])\n",
    "    return result\n",
    "\n",
    "def grad_des(X,Y,theta):\n",
    "    lnr=0.0001\n",
    "    epoch=50000\n",
    "    for i in range(epoch):\n",
    "        if(i%5000==0):\n",
    "            print(i,theta)\n",
    "        new_theta=[]\n",
    "        for j in range(3):\n",
    "            a=theta[j]+lnr*dj_dtheta(theta,X,Y,j)\n",
    "            new_theta.append(a)\n",
    "        theta=np.array(new_theta)\n",
    "        \n",
    "    return theta\n",
    "    \n",
    "    "
   ]
  },
  {
   "cell_type": "code",
   "execution_count": 25,
   "metadata": {},
   "outputs": [
    {
     "name": "stdout",
     "output_type": "stream",
     "text": [
      "[[1.    1.    0.275]\n",
      " [1.    0.    0.475]\n",
      " [1.    0.    0.325]\n",
      " ...\n",
      " [1.    0.    0.35 ]\n",
      " [1.    1.    0.325]\n",
      " [1.    1.    0.4  ]]\n"
     ]
    }
   ],
   "source": [
    "data = np.array(train[[\"Sex\",\"Age\"]].values, dtype = float)\n",
    "data=np.insert(data, 0, 1, axis=1)\n",
    "normalizer=max(data[:,[2]])\n",
    "data[:,[2]]=data[:,[2]]/normalizer\n",
    "print(data)"
   ]
  },
  {
   "cell_type": "code",
   "execution_count": 26,
   "metadata": {},
   "outputs": [
    {
     "name": "stdout",
     "output_type": "stream",
     "text": [
      "0 [0 0 0]\n",
      "5000 [ 1.14283205 -2.50497632 -0.25348763]\n",
      "10000 [ 1.1811918  -2.50520938 -0.35604868]\n",
      "15000 [ 1.18822401 -2.5052932  -0.37479815]\n",
      "20000 [ 1.18951411 -2.50530997 -0.37823608]\n",
      "25000 [ 1.18975082 -2.50531309 -0.37886681]\n",
      "30000 [ 1.18979425 -2.50531366 -0.37898254]\n",
      "35000 [ 1.18980222 -2.50531377 -0.37900377]\n",
      "40000 [ 1.18980368 -2.50531379 -0.37900767]\n",
      "45000 [ 1.18980395 -2.50531379 -0.37900838]\n",
      "theta [ 1.189804   -2.50531379 -0.37900851]\n"
     ]
    }
   ],
   "source": [
    "theta=np.array([0,0,0])\n",
    "Y=np.array(train[\"Survived\"].values, dtype = float)\n",
    "theta=grad_des(data,Y,theta)\n",
    "print(\"theta\",theta)"
   ]
  },
  {
   "cell_type": "code",
   "execution_count": 27,
   "metadata": {},
   "outputs": [],
   "source": [
    "def isSurvived(theta,X,m):\n",
    "    result=[]\n",
    "    for i in range(m):\n",
    "        ans=h(np.dot(theta,X[i]))\n",
    "        if(ans>=0.5):\n",
    "            ans=1\n",
    "        else:\n",
    "            ans=0\n",
    "        result.append(ans)\n",
    "    return result\n",
    "        \n",
    "\n",
    "dic=dict()\n",
    "dic[\"PassengerId\"]=np.array(test[\"PassengerId\"].values, dtype = int)\n",
    "test.loc[test[\"Sex\"] == \"female\", \"Sex\"] = 0\n",
    "test.loc[test[\"Sex\"] == \"male\", \"Sex\"] = 1\n",
    "data=np.array(test[[\"Sex\",\"Age\"]].values, dtype = float)\n",
    "data=np.insert(data, 0, 1, axis=1)\n",
    "data[:,[2]]=data[:,[2]]/normalizer\n",
    "dic[\"Survived\"]=isSurvived(theta,data,418)\n",
    "df=pd.DataFrame(dic)\n",
    "df.to_csv(\"T13.csv\",index=False)\n",
    "\n",
    "\n",
    "\n",
    "\n",
    "\n",
    "\n"
   ]
  },
  {
   "cell_type": "code",
   "execution_count": 29,
   "metadata": {},
   "outputs": [
    {
     "name": "stdout",
     "output_type": "stream",
     "text": [
      "0.7867564534231201\n"
     ]
    }
   ],
   "source": [
    "def accuracy(theta,X,Y):\n",
    "    count=0\n",
    "    for i in range(np.size(Y)):\n",
    "        predY=h(np.dot(theta,X[i]))\n",
    "        if(predY>=0.5):\n",
    "            predY=1\n",
    "        else:\n",
    "            predY=0\n",
    "        \n",
    "        if(predY==Y[i]):\n",
    "            count+=1\n",
    "    print(count/np.size(Y))\n",
    "    \n",
    "    \n",
    "data = np.array(train[[\"Sex\",\"Age\"]].values, dtype = float)\n",
    "data=np.insert(data, 0, 1, axis=1)\n",
    "normalizer=max(data[:,[2]])\n",
    "data[:,[2]]=data[:,[2]]/normalizer\n",
    "Y=np.array(train[\"Survived\"].values, dtype = float)\n",
    "accuracy(theta,data,Y)"
   ]
  }
 ],
 "metadata": {
  "kernelspec": {
   "display_name": "Python 3",
   "language": "python",
   "name": "python3"
  },
  "language_info": {
   "codemirror_mode": {
    "name": "ipython",
    "version": 3
   },
   "file_extension": ".py",
   "mimetype": "text/x-python",
   "name": "python",
   "nbconvert_exporter": "python",
   "pygments_lexer": "ipython3",
   "version": "3.9.12"
  }
 },
 "nbformat": 4,
 "nbformat_minor": 2
}
