{
 "cells": [
  {
   "cell_type": "code",
   "execution_count": 1,
   "metadata": {},
   "outputs": [],
   "source": [
    "import pandas as pd\n",
    "import numpy as np"
   ]
  },
  {
   "cell_type": "code",
   "execution_count": 2,
   "metadata": {},
   "outputs": [
    {
     "name": "stdout",
     "output_type": "stream",
     "text": [
      "   PassengerId  Survived  Pclass  \\\n",
      "0            1         0       3   \n",
      "1            2         1       1   \n",
      "2            3         1       3   \n",
      "3            4         1       1   \n",
      "4            5         0       3   \n",
      "\n",
      "                                                Name     Sex   Age  SibSp  \\\n",
      "0                            Braund, Mr. Owen Harris    male  22.0      1   \n",
      "1  Cumings, Mrs. John Bradley (Florence Briggs Th...  female  38.0      1   \n",
      "2                             Heikkinen, Miss. Laina  female  26.0      0   \n",
      "3       Futrelle, Mrs. Jacques Heath (Lily May Peel)  female  35.0      1   \n",
      "4                           Allen, Mr. William Henry    male  35.0      0   \n",
      "\n",
      "   Parch            Ticket     Fare Cabin Embarked  \n",
      "0      0         A/5 21171   7.2500   NaN        S  \n",
      "1      0          PC 17599  71.2833   C85        C  \n",
      "2      0  STON/O2. 3101282   7.9250   NaN        S  \n",
      "3      0            113803  53.1000  C123        S  \n",
      "4      0            373450   8.0500   NaN        S  \n"
     ]
    }
   ],
   "source": [
    "train_url = \"http://s3.amazonaws.com/assets.datacamp.com/course/Kaggle/train.csv\"\n",
    "train = pd.read_csv(train_url) #training set\n",
    "test_url = \"http://s3.amazonaws.com/assets.datacamp.com/course/Kaggle/test.csv\"\n",
    "test = pd.read_csv(test_url) #test set\n",
    "print(train.head())"
   ]
  },
  {
   "cell_type": "code",
   "execution_count": 3,
   "metadata": {},
   "outputs": [],
   "source": [
    "train[\"Age\"] = train[\"Age\"].fillna(train[\"Age\"].median())"
   ]
  },
  {
   "cell_type": "code",
   "execution_count": 4,
   "metadata": {},
   "outputs": [],
   "source": [
    "train.loc[train[\"Embarked\"] == \"S\", \"Embarked\"] = 0\n",
    "train.loc[train[\"Embarked\"] == \"C\", \"Embarked\"] = 1\n",
    "train.loc[train[\"Embarked\"] == \"Q\", \"Embarked\"] = 2\n",
    "train[\"Embarked\"] = train[\"Embarked\"].fillna(train[\"Embarked\"].mode()[0])"
   ]
  },
  {
   "cell_type": "code",
   "execution_count": 5,
   "metadata": {},
   "outputs": [],
   "source": [
    "train.loc[train[\"Sex\"] == \"female\", \"Sex\"] = 1\n",
    "train.loc[train[\"Sex\"] == \"male\", \"Sex\"] = 0"
   ]
  },
  {
   "cell_type": "code",
   "execution_count": 6,
   "metadata": {},
   "outputs": [],
   "source": [
    "def h(x):\n",
    "    return 1/(1+np.exp(-x))\n",
    "\n",
    "def dj_dtheta(theta,X,Y,j):\n",
    "    result=0\n",
    "    for i in range(np.size(Y)):\n",
    "        error=Y[i]-h(np.dot(theta,X[i]))\n",
    "        result+=(error*X[i,j])\n",
    "    return result\n",
    "\n",
    "def grad_des(X,Y,theta):\n",
    "    lnr=0.0001\n",
    "    epoch=50000\n",
    "    for i in range(epoch):\n",
    "        if(i%5000==0):\n",
    "            print(i,theta)\n",
    "        new_theta=[]\n",
    "        for j in range(X.shape[1]):\n",
    "            a=theta[j]+lnr*dj_dtheta(theta,X,Y,j)\n",
    "            new_theta.append(a)\n",
    "        theta=np.array(new_theta)\n",
    "        \n",
    "    return theta\n",
    "    \n",
    "    "
   ]
  },
  {
   "cell_type": "code",
   "execution_count": 7,
   "metadata": {},
   "outputs": [
    {
     "name": "stdout",
     "output_type": "stream",
     "text": [
      "[[1.    3.    0.    0.275 0.    0.825]\n",
      " [1.    1.    1.    0.475 1.    0.475]\n",
      " [1.    3.    1.    0.325 0.    0.975]\n",
      " ...\n",
      " [1.    3.    1.    0.35  0.    1.05 ]\n",
      " [1.    1.    0.    0.325 1.    0.325]\n",
      " [1.    3.    0.    0.4   2.    1.2  ]]\n"
     ]
    }
   ],
   "source": [
    "data = np.array(train[[\"Pclass\",\"Sex\",\"Age\",\"Embarked\"]].values, dtype = float)\n",
    "data=np.insert(data, 0, 1, axis=1)\n",
    "normalizer=max(data[:,[3]])\n",
    "data[:,[3]]=data[:,[3]]/normalizer\n",
    "add_fea=data[:,[3]]*data[:,[1]]\n",
    "data = np.hstack([data, add_fea])\n",
    "print(data)"
   ]
  },
  {
   "cell_type": "code",
   "execution_count": 8,
   "metadata": {},
   "outputs": [
    {
     "name": "stdout",
     "output_type": "stream",
     "text": [
      "0 [0 0 0 0 0 0]\n",
      "5000 [ 1.0580518  -0.77391077  2.58049429 -0.39406555  0.31220009 -1.02262703]\n",
      "10000 [ 1.20147915 -0.83176125  2.57898639 -0.71149562  0.31327821 -0.88695742]\n",
      "15000 [ 1.31902074 -0.8801017   2.57787329 -0.97713368  0.31427267 -0.77072286]\n",
      "20000 [ 1.41755183 -0.92060108  2.57711713 -1.19978408  0.31511667 -0.67348931]\n",
      "25000 [ 1.50023352 -0.95456617  2.57660713 -1.38658616  0.3158316  -0.59205624]\n",
      "30000 [ 1.56967274 -0.98307709  2.57626635 -1.54344656  0.31643655 -0.52377899]\n",
      "35000 [ 1.62803263 -1.0070287   2.5760416  -1.67526325  0.31694807 -0.466476  ]\n",
      "40000 [ 1.67711172 -1.027164    2.57589606 -1.78610645  0.31738037 -0.41834267]\n",
      "45000 [ 1.71840826 -1.04410114  2.57580431 -1.87936528  0.31774559 -0.3778823 ]\n",
      "theta [ 1.75317245 -1.05835537  2.57574879 -1.95786686  0.31805405 -0.34385066]\n"
     ]
    }
   ],
   "source": [
    "theta=np.array([0,0,0,0,0,0])\n",
    "Y=np.array(train[\"Survived\"].values, dtype = float)\n",
    "theta=grad_des(data,Y,theta)\n",
    "print(\"theta\",theta)"
   ]
  },
  {
   "cell_type": "code",
   "execution_count": 9,
   "metadata": {},
   "outputs": [],
   "source": [
    "def isSurvived(theta,X,m):\n",
    "    result=[]\n",
    "    for i in range(m):\n",
    "        ans=h(np.dot(theta,X[i]))\n",
    "        if(ans>=0.5):\n",
    "            ans=1\n",
    "        else:\n",
    "            ans=0\n",
    "        result.append(ans)\n",
    "    return result\n",
    "        \n",
    "\n",
    "dic=dict()\n",
    "dic[\"PassengerId\"]=np.array(test[\"PassengerId\"].values, dtype = int)\n",
    "test.loc[test[\"Sex\"] == \"female\", \"Sex\"] = 1\n",
    "test.loc[test[\"Sex\"] == \"male\", \"Sex\"] = 0\n",
    "test.loc[test[\"Embarked\"] == \"S\", \"Embarked\"] = 0\n",
    "test.loc[test[\"Embarked\"] == \"C\", \"Embarked\"] = 1\n",
    "test.loc[test[\"Embarked\"] == \"Q\", \"Embarked\"] = 2\n",
    "data=np.array(test[[\"Pclass\",\"Sex\",\"Age\",\"Embarked\"]].values, dtype = float)\n",
    "data=np.insert(data, 0, 1, axis=1)\n",
    "data[:,[3]]=data[:,[3]]/normalizer\n",
    "add_fea=data[:,[3]]*data[:,[1]]\n",
    "data = np.hstack([data, add_fea])\n",
    "dic[\"Survived\"]=isSurvived(theta,data,418)\n",
    "df=pd.DataFrame(dic)\n",
    "df.to_csv(\"T12(ageXPclass).csv\",index=False)\n",
    "\n",
    "\n",
    "\n",
    "\n",
    "\n",
    "\n"
   ]
  },
  {
   "cell_type": "code",
   "execution_count": 11,
   "metadata": {},
   "outputs": [
    {
     "name": "stdout",
     "output_type": "stream",
     "text": [
      "0.7901234567901234\n"
     ]
    }
   ],
   "source": [
    "def accuracy(theta,X,Y):\n",
    "    count=0\n",
    "    for i in range(np.size(Y)):\n",
    "        predY=h(np.dot(theta,X[i]))\n",
    "        if(predY>=0.5):\n",
    "            predY=1\n",
    "        else:\n",
    "            predY=0\n",
    "        \n",
    "        if(predY==Y[i]):\n",
    "            count+=1\n",
    "    print(count/np.size(Y))\n",
    "    \n",
    "\n",
    "\n",
    "\n",
    "data = np.array(train[[\"Pclass\",\"Sex\",\"Age\",\"Embarked\"]].values, dtype = float)\n",
    "data=np.insert(data, 0, 1, axis=1)\n",
    "normalizer=max(data[:,[3]])\n",
    "data[:,[3]]=data[:,[3]]/normalizer\n",
    "add_fea=data[:,[3]]*data[:,[1]]\n",
    "data = np.hstack([data, add_fea])\n",
    "Y=np.array(train[\"Survived\"].values, dtype = float)\n",
    "accuracy(theta,data,Y)\n",
    "        "
   ]
  }
 ],
 "metadata": {
  "kernelspec": {
   "display_name": "Python 3",
   "language": "python",
   "name": "python3"
  },
  "language_info": {
   "codemirror_mode": {
    "name": "ipython",
    "version": 3
   },
   "file_extension": ".py",
   "mimetype": "text/x-python",
   "name": "python",
   "nbconvert_exporter": "python",
   "pygments_lexer": "ipython3",
   "version": "3.9.12"
  }
 },
 "nbformat": 4,
 "nbformat_minor": 2
}
