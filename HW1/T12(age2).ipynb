{
 "cells": [
  {
   "cell_type": "code",
   "execution_count": 3,
   "metadata": {},
   "outputs": [],
   "source": [
    "import pandas as pd\n",
    "import numpy as np"
   ]
  },
  {
   "cell_type": "code",
   "execution_count": 4,
   "metadata": {},
   "outputs": [
    {
     "name": "stdout",
     "output_type": "stream",
     "text": [
      "   PassengerId  Survived  Pclass  \\\n",
      "0            1         0       3   \n",
      "1            2         1       1   \n",
      "2            3         1       3   \n",
      "3            4         1       1   \n",
      "4            5         0       3   \n",
      "\n",
      "                                                Name     Sex   Age  SibSp  \\\n",
      "0                            Braund, Mr. Owen Harris    male  22.0      1   \n",
      "1  Cumings, Mrs. John Bradley (Florence Briggs Th...  female  38.0      1   \n",
      "2                             Heikkinen, Miss. Laina  female  26.0      0   \n",
      "3       Futrelle, Mrs. Jacques Heath (Lily May Peel)  female  35.0      1   \n",
      "4                           Allen, Mr. William Henry    male  35.0      0   \n",
      "\n",
      "   Parch            Ticket     Fare Cabin Embarked  \n",
      "0      0         A/5 21171   7.2500   NaN        S  \n",
      "1      0          PC 17599  71.2833   C85        C  \n",
      "2      0  STON/O2. 3101282   7.9250   NaN        S  \n",
      "3      0            113803  53.1000  C123        S  \n",
      "4      0            373450   8.0500   NaN        S  \n"
     ]
    }
   ],
   "source": [
    "train_url = \"http://s3.amazonaws.com/assets.datacamp.com/course/Kaggle/train.csv\"\n",
    "train = pd.read_csv(train_url) #training set\n",
    "test_url = \"http://s3.amazonaws.com/assets.datacamp.com/course/Kaggle/test.csv\"\n",
    "test = pd.read_csv(test_url) #test set\n",
    "print(train.head())"
   ]
  },
  {
   "cell_type": "code",
   "execution_count": 5,
   "metadata": {},
   "outputs": [],
   "source": [
    "train[\"Age\"] = train[\"Age\"].fillna(train[\"Age\"].median())"
   ]
  },
  {
   "cell_type": "code",
   "execution_count": 6,
   "metadata": {},
   "outputs": [],
   "source": [
    "train.loc[train[\"Embarked\"] == \"S\", \"Embarked\"] = 0\n",
    "train.loc[train[\"Embarked\"] == \"C\", \"Embarked\"] = 1\n",
    "train.loc[train[\"Embarked\"] == \"Q\", \"Embarked\"] = 2\n",
    "train[\"Embarked\"] = train[\"Embarked\"].fillna(train[\"Embarked\"].mode()[0])"
   ]
  },
  {
   "cell_type": "code",
   "execution_count": 7,
   "metadata": {},
   "outputs": [],
   "source": [
    "train.loc[train[\"Sex\"] == \"female\", \"Sex\"] = 1\n",
    "train.loc[train[\"Sex\"] == \"male\", \"Sex\"] = 0"
   ]
  },
  {
   "cell_type": "code",
   "execution_count": 8,
   "metadata": {},
   "outputs": [],
   "source": [
    "def h(x):\n",
    "    return 1/(1+np.exp(-x))\n",
    "\n",
    "def dj_dtheta(theta,X,Y,j):\n",
    "    result=0\n",
    "    for i in range(np.size(Y)):\n",
    "        error=Y[i]-h(np.dot(theta,X[i]))\n",
    "        result+=(error*X[i,j])\n",
    "    return result\n",
    "\n",
    "def grad_des(X,Y,theta):\n",
    "    lnr=0.0001\n",
    "    epoch=50000\n",
    "    for i in range(epoch):\n",
    "        if(i%5000==0):\n",
    "            print(i,theta)\n",
    "        new_theta=[]\n",
    "        for j in range(X.shape[1]):\n",
    "            a=theta[j]+lnr*dj_dtheta(theta,X,Y,j)\n",
    "            new_theta.append(a)\n",
    "        theta=np.array(new_theta)\n",
    "        \n",
    "    return theta\n",
    "    \n",
    "    "
   ]
  },
  {
   "cell_type": "code",
   "execution_count": 9,
   "metadata": {},
   "outputs": [
    {
     "name": "stdout",
     "output_type": "stream",
     "text": [
      "[[1.       3.       0.       0.275    0.       0.075625]\n",
      " [1.       1.       1.       0.475    1.       0.225625]\n",
      " [1.       3.       1.       0.325    0.       0.105625]\n",
      " ...\n",
      " [1.       3.       1.       0.35     0.       0.1225  ]\n",
      " [1.       1.       0.       0.325    1.       0.105625]\n",
      " [1.       3.       0.       0.4      2.       0.16    ]]\n"
     ]
    }
   ],
   "source": [
    "data = np.array(train[[\"Pclass\",\"Sex\",\"Age\",\"Embarked\"]].values, dtype = float)\n",
    "data=np.insert(data, 0, 1, axis=1)\n",
    "normalizer=max(data[:,[3]])\n",
    "data[:,[3]]=data[:,[3]]/normalizer\n",
    "add_fea=data[:,[3]]**2\n",
    "data = np.hstack([data, add_fea])\n",
    "print(data)"
   ]
  },
  {
   "cell_type": "code",
   "execution_count": 10,
   "metadata": {},
   "outputs": [
    {
     "name": "stdout",
     "output_type": "stream",
     "text": [
      "0 [0 0 0 0 0 0]\n"
     ]
    },
    {
     "name": "stdout",
     "output_type": "stream",
     "text": [
      "5000 [ 1.53181579 -1.11426239  2.57154241 -1.37999538  0.31562105 -0.79408339]\n",
      "10000 [ 1.8189545  -1.16872899  2.57254399 -1.85990669  0.31681973 -0.70861804]\n",
      "15000 [ 1.90770441 -1.17964931  2.57319208 -2.14085136  0.31797215 -0.46933813]\n",
      "20000 [ 1.95389937 -1.18162023  2.5733514  -2.3682205   0.31900998 -0.21454346]\n",
      "25000 [ 1.98939758 -1.18178164  2.57347642 -2.57257397  0.31996418  0.02858727]\n",
      "30000 [ 2.02093572 -1.18161829  2.573665   -2.76101588  0.32084694  0.25540566]\n",
      "35000 [ 2.05001473 -1.18143187  2.57392259 -2.93573998  0.32166464  0.46590197]\n",
      "40000 [ 2.07704132 -1.18127792  2.57423688 -3.09788499  0.32242217  0.66097718]\n",
      "45000 [ 2.10219193 -1.18116173  2.574594   -3.24833605  0.32312384  0.84166655]\n",
      "theta [ 2.12559195 -1.18107909  2.57498167 -3.38789082  0.32377366  1.00898005]\n"
     ]
    }
   ],
   "source": [
    "theta=np.array([0,0,0,0,0,0])\n",
    "Y=np.array(train[\"Survived\"].values, dtype = float)\n",
    "theta=grad_des(data,Y,theta)\n",
    "print(\"theta\",theta)"
   ]
  },
  {
   "cell_type": "code",
   "execution_count": 15,
   "metadata": {},
   "outputs": [],
   "source": [
    "def isSurvived(theta,X,m):\n",
    "    result=[]\n",
    "    for i in range(m):\n",
    "        ans=h(np.dot(theta,X[i]))\n",
    "        if(ans>=0.5):\n",
    "            ans=1\n",
    "        else:\n",
    "            ans=0\n",
    "        result.append(ans)\n",
    "    return result\n",
    "        \n",
    "\n",
    "dic=dict()\n",
    "dic[\"PassengerId\"]=np.array(test[\"PassengerId\"].values, dtype = int)\n",
    "test.loc[test[\"Sex\"] == \"female\", \"Sex\"] = 1\n",
    "test.loc[test[\"Sex\"] == \"male\", \"Sex\"] = 0\n",
    "test.loc[test[\"Embarked\"] == \"S\", \"Embarked\"] = 0\n",
    "test.loc[test[\"Embarked\"] == \"C\", \"Embarked\"] = 1\n",
    "test.loc[test[\"Embarked\"] == \"Q\", \"Embarked\"] = 2\n",
    "data=np.array(test[[\"Pclass\",\"Sex\",\"Age\",\"Embarked\"]].values, dtype = float)\n",
    "data=np.insert(data, 0, 1, axis=1)\n",
    "data[:,[3]]=data[:,[3]]/normalizer\n",
    "add_fea=data[:,[3]]**2\n",
    "data = np.hstack([data, add_fea])\n",
    "dic[\"Survived\"]=isSurvived(theta,data,418)\n",
    "df=pd.DataFrame(dic)\n",
    "df.to_csv(\"T12(ageXX2).csv\",index=False)\n",
    "\n",
    "\n",
    "\n",
    "\n",
    "\n",
    "\n"
   ]
  },
  {
   "cell_type": "code",
   "execution_count": 12,
   "metadata": {},
   "outputs": [
    {
     "name": "stdout",
     "output_type": "stream",
     "text": [
      "0.7755331088664422\n"
     ]
    }
   ],
   "source": [
    "def accuracy(theta,X,Y):\n",
    "    count=0\n",
    "    for i in range(np.size(Y)):\n",
    "        predY=h(np.dot(theta,X[i]))\n",
    "        if(predY>=0.5):\n",
    "            predY=1\n",
    "        else:\n",
    "            predY=0\n",
    "        \n",
    "        if(predY==Y[i]):\n",
    "            count+=1\n",
    "    print(count/np.size(Y))\n",
    "    \n",
    "\n",
    "\n",
    "\n",
    "data = np.array(train[[\"Pclass\",\"Sex\",\"Age\",\"Embarked\"]].values, dtype = float)\n",
    "data=np.insert(data, 0, 1, axis=1)\n",
    "normalizer=max(data[:,[3]])\n",
    "data[:,[3]]=data[:,[3]]/normalizer\n",
    "add_fea=data[:,[3]]*data[:,[1]]\n",
    "data = np.hstack([data, add_fea])\n",
    "Y=np.array(train[\"Survived\"].values, dtype = float)\n",
    "accuracy(theta,data,Y)\n",
    "        "
   ]
  }
 ],
 "metadata": {
  "kernelspec": {
   "display_name": "Python 3",
   "language": "python",
   "name": "python3"
  },
  "language_info": {
   "codemirror_mode": {
    "name": "ipython",
    "version": 3
   },
   "file_extension": ".py",
   "mimetype": "text/x-python",
   "name": "python",
   "nbconvert_exporter": "python",
   "pygments_lexer": "ipython3",
   "version": "3.9.12"
  }
 },
 "nbformat": 4,
 "nbformat_minor": 2
}
