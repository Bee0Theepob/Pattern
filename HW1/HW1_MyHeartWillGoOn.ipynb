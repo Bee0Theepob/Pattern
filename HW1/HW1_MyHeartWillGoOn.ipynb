{
 "cells": [
  {
   "cell_type": "code",
   "execution_count": 65,
   "metadata": {},
   "outputs": [],
   "source": [
    "import pandas as pd\n",
    "import numpy as np"
   ]
  },
  {
   "cell_type": "code",
   "execution_count": 66,
   "metadata": {},
   "outputs": [
    {
     "name": "stdout",
     "output_type": "stream",
     "text": [
      "   PassengerId  Survived  Pclass  \\\n",
      "0            1         0       3   \n",
      "1            2         1       1   \n",
      "2            3         1       3   \n",
      "3            4         1       1   \n",
      "4            5         0       3   \n",
      "\n",
      "                                                Name     Sex   Age  SibSp  \\\n",
      "0                            Braund, Mr. Owen Harris    male  22.0      1   \n",
      "1  Cumings, Mrs. John Bradley (Florence Briggs Th...  female  38.0      1   \n",
      "2                             Heikkinen, Miss. Laina  female  26.0      0   \n",
      "3       Futrelle, Mrs. Jacques Heath (Lily May Peel)  female  35.0      1   \n",
      "4                           Allen, Mr. William Henry    male  35.0      0   \n",
      "\n",
      "   Parch            Ticket     Fare Cabin Embarked  \n",
      "0      0         A/5 21171   7.2500   NaN        S  \n",
      "1      0          PC 17599  71.2833   C85        C  \n",
      "2      0  STON/O2. 3101282   7.9250   NaN        S  \n",
      "3      0            113803  53.1000  C123        S  \n",
      "4      0            373450   8.0500   NaN        S  \n"
     ]
    }
   ],
   "source": [
    "train_url = \"http://s3.amazonaws.com/assets.datacamp.com/course/Kaggle/train.csv\"\n",
    "train = pd.read_csv(train_url) #training set\n",
    "test_url = \"http://s3.amazonaws.com/assets.datacamp.com/course/Kaggle/test.csv\"\n",
    "test = pd.read_csv(test_url) #test set\n",
    "print(train.head())"
   ]
  },
  {
   "cell_type": "code",
   "execution_count": 67,
   "metadata": {},
   "outputs": [],
   "source": [
    "# print(\"T8) median is \"+str(train[\"Age\"].median()))\n",
    "# #print(\"mode is \"+str(train[\"Age\"].mode()[0]))\n",
    "\n",
    "train[\"Age\"] = train[\"Age\"].fillna(train[\"Age\"].median())\n"
   ]
  },
  {
   "cell_type": "code",
   "execution_count": 68,
   "metadata": {},
   "outputs": [
    {
     "name": "stdout",
     "output_type": "stream",
     "text": [
      "0    646\n",
      "1    168\n",
      "2     77\n",
      "Name: Embarked, dtype: int64\n",
      "T9)mode is 0\n"
     ]
    }
   ],
   "source": [
    "train.loc[train[\"Embarked\"] == \"S\", \"Embarked\"] = 0\n",
    "train.loc[train[\"Embarked\"] == \"C\", \"Embarked\"] = 1\n",
    "train.loc[train[\"Embarked\"] == \"Q\", \"Embarked\"] = 2\n",
    "train[\"Embarked\"] = train[\"Embarked\"].fillna(train[\"Embarked\"].mode()[0])\n",
    "print(train[\"Embarked\"].value_counts(dropna=False))\n",
    "print(\"T9)mode is \"+str(train[\"Embarked\"].mode()[0]))"
   ]
  },
  {
   "cell_type": "code",
   "execution_count": 69,
   "metadata": {},
   "outputs": [
    {
     "name": "stdout",
     "output_type": "stream",
     "text": [
      "1    577\n",
      "0    314\n",
      "Name: Sex, dtype: int64\n"
     ]
    }
   ],
   "source": [
    "train.loc[train[\"Sex\"] == \"female\", \"Sex\"] = 0\n",
    "train.loc[train[\"Sex\"] == \"male\", \"Sex\"] = 1\n",
    "print(train[\"Sex\"].value_counts(dropna=False))"
   ]
  },
  {
   "cell_type": "code",
   "execution_count": 70,
   "metadata": {},
   "outputs": [],
   "source": [
    "def h(x):\n",
    "    return 1/(1+np.exp(-x))\n",
    "\n",
    "def dj_dtheta(theta,X,Y,j):\n",
    "    result=0\n",
    "    for i in range(np.size(Y)):\n",
    "        error=Y[i]-h(np.dot(theta,X[i]))\n",
    "        result+=(error*X[i,j])\n",
    "    return result\n",
    "\n",
    "def grad_des(X,Y,theta):\n",
    "    lnr=0.0001\n",
    "    \n",
    "    for i in range(30000):\n",
    "        if(i%1000==0):\n",
    "            print(i/1000,theta)\n",
    "        new_theta=[]\n",
    "        for j in range(5):\n",
    "            a=theta[j]+lnr*dj_dtheta(theta,X,Y,j)\n",
    "            new_theta.append(a)\n",
    "        theta=np.array(new_theta)\n",
    "        \n",
    "    return theta\n",
    "    \n",
    "    "
   ]
  },
  {
   "cell_type": "code",
   "execution_count": 71,
   "metadata": {},
   "outputs": [
    {
     "name": "stdout",
     "output_type": "stream",
     "text": [
      "[[ 1.  3.  1. 22.  0.]\n",
      " [ 1.  1.  0. 38.  1.]\n",
      " [ 1.  3.  0. 26.  0.]\n",
      " ...\n",
      " [ 1.  3.  0. 28.  0.]\n",
      " [ 1.  1.  1. 26.  1.]\n",
      " [ 1.  3.  1. 32.  2.]]\n"
     ]
    }
   ],
   "source": [
    "data = np.array(train[[\"Pclass\",\"Sex\",\"Age\",\"Embarked\"]].values, dtype = float)\n",
    "data=np.insert(data, 0, 1, axis=1)\n",
    "print(data)"
   ]
  },
  {
   "cell_type": "code",
   "execution_count": 72,
   "metadata": {},
   "outputs": [
    {
     "name": "stdout",
     "output_type": "stream",
     "text": [
      "0.0 [1 5 8 6 5]\n",
      "1.0 [ 2.2953433  -2.33301091 -2.5302774   0.06393737  3.89352347]\n",
      "2.0 [ 5.52397597 -2.51871699 -8.40716203  0.45461146  3.95331659]\n",
      "3.0 [  8.34350133  -2.31998184 -11.07558085   0.2340718    3.56174382]\n",
      "4.0 [ 10.60826277  -3.07416537 -12.4558304   -0.20246305   3.25272194]\n",
      "5.0 [ 12.63521368  -3.45921736 -12.58538813   0.10961305   2.98354094]\n",
      "6.0 [ 14.42358448  -3.84075244 -12.66050456  -0.95833586   2.78244703]\n",
      "7.0 [ 16.11287881  -4.01427661 -12.83250164  -0.13225029   2.67281009]\n",
      "8.0 [ 17.48368396  -4.46968714 -12.67402929   0.0283368    2.55137858]\n",
      "9.0 [ 18.73678851  -4.69593729 -12.78139603  -1.0821609    2.43292795]\n",
      "10.0 [ 19.87701328  -4.85494819 -12.85547099  -0.10133317   2.35748581]\n",
      "11.0 [ 20.89548732  -4.94619334 -13.05130776  -0.04264805   2.24139677]\n",
      "12.0 [ 21.70992147  -5.18563303 -12.9602479    0.18506151   2.14243739]\n",
      "13.0 [ 22.39305499  -5.44762915 -12.95054655  -0.79153542   2.06096822]\n",
      "14.0 [ 23.01724183  -5.58741143 -12.90587723  -0.13826283   2.00075957]\n",
      "15.0 [ 23.65110012  -5.58697389 -13.40806854  -1.08238131   2.0574113 ]\n",
      "16.0 [ 24.43114654  -5.10187229 -14.68701669  -0.45028806   2.13115962]\n",
      "17.0 [ 25.11616469  -4.51818266 -16.57933033  -0.59602411   1.97514989]\n",
      "18.0 [ 25.62488628  -3.97179145 -18.32229389  -0.71464896   1.70356023]\n",
      "19.0 [ 25.51458186  -5.66671683 -15.39607319   0.18152688   1.25404702]\n",
      "20.0 [ 26.2084737   -4.47743589 -17.31371391   0.05118234   1.78917409]\n",
      "21.0 [ 26.36465285  -4.36875028 -18.13001116  -0.16344547   1.53776937]\n",
      "22.0 [ 2.65696372e+01 -4.99331826e+00 -1.64413745e+01  1.85694338e-02\n",
      "  1.74456993e+00]\n",
      "23.0 [ 26.88726271  -4.3064415  -18.21950554   0.03010456   1.70605777]\n",
      "24.0 [ 26.71890451  -5.63015347 -15.81879152  -0.76221326   1.46382723]\n",
      "25.0 [ 27.15752729  -4.57759215 -17.84022577  -0.7317125    1.72469556]\n",
      "26.0 [ 26.75359322  -6.39102774 -15.47880502  -0.16656793   1.114066  ]\n",
      "27.0 [ 27.34879444  -4.78534437 -17.44365046  -0.74535985   1.73251336]\n",
      "28.0 [ 27.17130119  -5.55099602 -16.88453156  -0.18134077   1.396158  ]\n",
      "29.0 [ 27.49415766  -4.94680257 -17.03413987   0.03961653   1.73997452]\n",
      "theta [ 27.52677079  -4.59812927 -18.19542696  -0.19147051   1.65289111]\n"
     ]
    }
   ],
   "source": [
    "theta=np.array([1,5,8,6,5])\n",
    "Y=np.array(train[\"Survived\"].values, dtype = float)\n",
    "theta=grad_des(data,Y,theta)\n",
    "print(\"theta\",theta)"
   ]
  },
  {
   "cell_type": "code",
   "execution_count": 73,
   "metadata": {},
   "outputs": [],
   "source": [
    "def isSurvived(theta,X,m):\n",
    "    result=[]\n",
    "    for i in range(m):\n",
    "        ans=h(np.dot(theta,X[i]))\n",
    "        if(ans>=0.5):\n",
    "            ans=1\n",
    "        else:\n",
    "            ans=0\n",
    "        result.append(ans)\n",
    "    return result\n",
    "        \n",
    "\n",
    "dic=dict()\n",
    "dic[\"PassengerId\"]=np.array(test[\"PassengerId\"].values, dtype = int)\n",
    "test.loc[test[\"Sex\"] == \"female\", \"Sex\"] = 0\n",
    "test.loc[test[\"Sex\"] == \"male\", \"Sex\"] = 1\n",
    "test.loc[test[\"Embarked\"] == \"S\", \"Embarked\"] = 0\n",
    "test.loc[test[\"Embarked\"] == \"C\", \"Embarked\"] = 1\n",
    "test.loc[test[\"Embarked\"] == \"Q\", \"Embarked\"] = 2\n",
    "data=np.array(test[[\"Pclass\",\"Sex\",\"Age\",\"Embarked\"]].values, dtype = float)\n",
    "data=np.insert(data, 0, 1, axis=1)\n",
    "dic[\"Survived\"]=isSurvived(theta,data,1309-892+1)\n",
    "df=pd.DataFrame(dic)\n",
    "df.to_csv(\"output.csv\",index=False)\n",
    "\n",
    "\n",
    "\n",
    "\n",
    "\n",
    "\n"
   ]
  }
 ],
 "metadata": {
  "kernelspec": {
   "display_name": "Python 3",
   "language": "python",
   "name": "python3"
  },
  "language_info": {
   "codemirror_mode": {
    "name": "ipython",
    "version": 3
   },
   "file_extension": ".py",
   "mimetype": "text/x-python",
   "name": "python",
   "nbconvert_exporter": "python",
   "pygments_lexer": "ipython3",
   "version": "3.9.12"
  }
 },
 "nbformat": 4,
 "nbformat_minor": 2
}
