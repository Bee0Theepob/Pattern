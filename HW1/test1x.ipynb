{
 "cells": [
  {
   "cell_type": "code",
   "execution_count": 6,
   "metadata": {},
   "outputs": [],
   "source": [
    "import numpy as np\n",
    "import matplotlib.pyplot as plt"
   ]
  },
  {
   "cell_type": "code",
   "execution_count": 7,
   "metadata": {},
   "outputs": [],
   "source": [
    "def cost_func(theta,X,Y):\n",
    "    b=0\n",
    "    for i in range(np.size(Y)):\n",
    "        b+=((Y[i]-np.dot(theta,X[i]))**2)    \n",
    "    return 0.5*b  \n",
    "\n",
    "def dj_dtheta(theta,X,Y,j):\n",
    "    result=0\n",
    "    for i in range(np.size(Y)):\n",
    "        result+=((Y[i]-np.dot(theta,X[i]))*X[i,j])\n",
    "    return result\n",
    "    \n",
    "\n",
    "\n",
    "\n",
    "def grad_des(X,Y,theta):\n",
    "    alpha=0.00001\n",
    "    \n",
    "    for i in range(10000):\n",
    "        if(i%1000==0):\n",
    "            print(theta)\n",
    "        a=theta[0]+alpha*dj_dtheta(theta,X,Y,0)\n",
    "        b=theta[1]+alpha*dj_dtheta(theta,X,Y,1)\n",
    "        \n",
    "        theta=np.array([a,b])\n",
    "    return theta\n",
    "\n",
    "        \n",
    "            \n",
    "           \n",
    "    \n",
    "    \n",
    "    \n",
    "      \n",
    "\n",
    "    "
   ]
  },
  {
   "cell_type": "code",
   "execution_count": 8,
   "metadata": {},
   "outputs": [],
   "source": [
    "# X=np.array([[1,40],[1,45],[1,50],[1,55],[1,60],[1,65],[1,70],[1,75],[1,80],[1,85],[1,90]])\n",
    "# Y=np.array([1.5863,1.7889,1.9867,2.1800,2.3363,2.5841,2.7539,2.9825,3.2005,3.3948,3.5513])\n",
    "\n",
    "X=np.array([[1,4.089],[1,8.178],[1,12.267],[1,16.356],[1,20.445],[1,24.534],[1,28.629],[1,32.712],[1,36.801],[1,40.890]])\n",
    "Y=np.array([1.492,1.806,2.077,2.481,2.792,2.900,3.356,3.516,3.61,3.756])\n",
    "#ans : theta must be [1.25,0.067] estimately\n",
    "\n",
    "# X=np.array([[1,1],[1,2],[1,3],[1,4],[1,5],[1,6],[1,7],[1,8],[1,9],[1,10]])\n",
    "# Y=np.array([-1,-2,-3,-4,-5,-6,-7,-8,-9,-10])\n",
    "\n",
    "#X=[1,x] for easier when use np.dot()"
   ]
  },
  {
   "cell_type": "code",
   "execution_count": 9,
   "metadata": {},
   "outputs": [
    {
     "name": "stdout",
     "output_type": "stream",
     "text": [
      "[0 0]\n",
      "[0.03231697 0.10959482]\n",
      "[0.06016663 0.10862154]\n",
      "[0.08742656 0.10766887]\n",
      "[0.11410926 0.10673638]\n",
      "[0.14022695 0.10582363]\n",
      "[0.16579159 0.1049302 ]\n",
      "[0.19081489 0.1040557 ]\n",
      "[0.21530831 0.10319971]\n",
      "[0.23928308 0.10236185]\n"
     ]
    }
   ],
   "source": [
    "theta=np.array([0,0])#[y-inter,slope]\n",
    "theta=grad_des(X,Y,np.array([0,0]))"
   ]
  },
  {
   "cell_type": "code",
   "execution_count": 10,
   "metadata": {},
   "outputs": [
    {
     "data": {
      "image/png": "[encoded data removed]",
      "text/plain": [
       "<Figure size 432x288 with 1 Axes>"
      ]
     },
     "metadata": {
      "needs_background": "light"
     },
     "output_type": "display_data"
    }
   ],
   "source": [
    "predY=[]\n",
    "for i in range(np.size(Y)):\n",
    "    predY.append(np.dot(theta,X[i]))\n",
    "plt.plot(X[:,1],np.array(predY),'-',color=\"red\")\n",
    "\n",
    "# for i in range(np.size(Y)):\n",
    "#     predY[i]=(X[i][1]*0.067+1.25)\n",
    "# plt.plot(X[:,1],np.array(predY),'-',color=\"black\")\n",
    "\n",
    "\n",
    "plt.plot(X[:,1],Y,'bo')\n",
    "plt.show()"
   ]
  }
 ],
 "metadata": {
  "kernelspec": {
   "display_name": "Python 3",
   "language": "python",
   "name": "python3"
  },
  "language_info": {
   "codemirror_mode": {
    "name": "ipython",
    "version": 3
   },
   "file_extension": ".py",
   "mimetype": "text/x-python",
   "name": "python",
   "nbconvert_exporter": "python",
   "pygments_lexer": "ipython3",
   "version": "3.9.12"
  }
 },
 "nbformat": 4,
 "nbformat_minor": 2
}
