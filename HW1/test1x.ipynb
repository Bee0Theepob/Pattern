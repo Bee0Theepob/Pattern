{
 "cells": [
  {
   "cell_type": "code",
   "execution_count": 100,
   "metadata": {},
   "outputs": [],
   "source": [
    "import numpy as np\n",
    "import matplotlib.pyplot as plt"
   ]
  },
  {
   "cell_type": "code",
   "execution_count": 101,
   "metadata": {},
   "outputs": [],
   "source": [
    "def cost_func(theta,X,Y):\n",
    "    b=0\n",
    "    for i in range(np.size(Y)):\n",
    "        b+=((Y[i]-np.dot(theta,X[i]))**2)    \n",
    "    return 0.5*b  \n",
    "\n",
    "def dj_dtheta(theta,X,Y,j):\n",
    "    result=0\n",
    "    for i in range(np.size(Y)):\n",
    "        result+=((Y[i]-np.dot(theta,X[i]))*X[i,j])\n",
    "    return result\n",
    "    \n",
    "\n",
    "\n",
    "\n",
    "def grad_des(X,Y,theta):\n",
    "    alpha=0.00001\n",
    "    \n",
    "    for i in range(200000):\n",
    "        if(i%20000==0):\n",
    "            print(theta)\n",
    "        a=theta[0]+alpha*dj_dtheta(theta,X,Y,0)\n",
    "        b=theta[1]+alpha*dj_dtheta(theta,X,Y,1)\n",
    "        \n",
    "        theta=np.array([a,b])\n",
    "    return theta\n",
    "\n",
    "        \n",
    "            \n",
    "           \n",
    "    \n",
    "    \n",
    "    \n",
    "      \n",
    "\n",
    "    "
   ]
  },
  {
   "cell_type": "code",
   "execution_count": 102,
   "metadata": {},
   "outputs": [],
   "source": [
    "#simple pendulum\n",
    "X=np.array([[1,40],[1,45],[1,50],[1,55],[1,60],[1,65],[1,70],[1,75],[1,80],[1,85],[1,90]])\n",
    "Y=np.array([1.5863,1.7889,1.9867,2.1800,2.3363,2.5841,2.7539,2.9825,3.2005,3.3948,3.5513])\n",
    "\n",
    "#spring\n",
    "# X=np.array([[1,4.089],[1,8.178],[1,12.267],[1,16.356],[1,20.445],[1,24.534],[1,28.629],[1,32.712],[1,36.801],[1,40.890]])\n",
    "# Y=np.array([1.492,1.806,2.077,2.481,2.792,2.900,3.356,3.516,3.61,3.756])\n",
    "#ans : theta must be [1.25,0.067] estimately\n",
    "\n",
    "#discharge capacitor\n",
    "# X=np.array([[1,0],[1,15],[1,30],[1,45],[1,60],[1,75],[1,90],[1,105],[1,120],[1,135]])\n",
    "# Y=np.array([0.9703,0.9355,0.9042,0.8745,0.8407,0.8082,0.7774,0.7459,0.7160,0.6830])\n",
    "\n",
    "#X=[1,x] for easier when use np.dot()"
   ]
  },
  {
   "cell_type": "code",
   "execution_count": 103,
   "metadata": {},
   "outputs": [
    {
     "name": "stdout",
     "output_type": "stream",
     "text": [
      "[0 0]\n",
      "[-0.00097372  0.03966894]\n",
      "[-0.00234413  0.03968885]\n",
      "[-0.00355608  0.03970645]\n",
      "[-0.0046279   0.03972202]\n",
      "[-0.00557578  0.03973579]\n",
      "[-0.00641406  0.03974796]\n",
      "[-0.00715541  0.03975873]\n",
      "[-0.00781103  0.03976825]\n",
      "[-0.00839085  0.03977668]\n",
      "final ans [-0.00890362  0.03978413]\n"
     ]
    }
   ],
   "source": [
    "theta=np.array([0,0])#[y-inter,slope]\n",
    "theta=grad_des(X,Y,np.array([0,0]))\n",
    "\n",
    "print(\"final ans\" , theta)"
   ]
  },
  {
   "cell_type": "code",
   "execution_count": 104,
   "metadata": {},
   "outputs": [
    {
     "data": {
      "image/png": "[encoded data removed]",
      "text/plain": [
       "<Figure size 432x288 with 1 Axes>"
      ]
     },
     "metadata": {
      "needs_background": "light"
     },
     "output_type": "display_data"
    }
   ],
   "source": [
    "predY=range(X[0,1],X[np.size(Y)-1,1])\n",
    "plt.plot(predY,predY*theta[1]+theta[0],'-',color=\"red\")\n",
    "plt.plot(X[:,1],Y,'bo')\n",
    "plt.show()"
   ]
  }
 ],
 "metadata": {
  "kernelspec": {
   "display_name": "Python 3",
   "language": "python",
   "name": "python3"
  },
  "language_info": {
   "codemirror_mode": {
    "name": "ipython",
    "version": 3
   },
   "file_extension": ".py",
   "mimetype": "text/x-python",
   "name": "python",
   "nbconvert_exporter": "python",
   "pygments_lexer": "ipython3",
   "version": "3.9.12"
  }
 },
 "nbformat": 4,
 "nbformat_minor": 2
}
