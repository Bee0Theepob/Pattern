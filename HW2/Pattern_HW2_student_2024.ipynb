{
  "cells": [
    {
      "attachments": {},
      "cell_type": "markdown",
      "metadata": {
        "id": "qES4TJDxApaB"
      },
      "source": [
        "# Employee Attrition Prediction\n",
        "\n"
      ]
    },
    {
      "cell_type": "code",
      "execution_count": 382,
      "metadata": {
        "id": "SacSEoJ0nQuA"
      },
      "outputs": [],
      "source": [
        "import pandas as pd\n",
        "import numpy as np\n",
        "import matplotlib.pyplot as plt\n",
        "import math"
      ]
    },
    {
      "attachments": {},
      "cell_type": "markdown",
      "metadata": {
        "id": "guR7Z-AoA8wc"
      },
      "source": [
        "### read CSV"
      ]
    },
    {
      "cell_type": "code",
      "execution_count": 383,
      "metadata": {
        "id": "l2uxs7gfBCUG"
      },
      "outputs": [],
      "source": [
        "df = pd.read_csv('hr-employee-attrition-with-null.csv')"
      ]
    },
    {
      "attachments": {},
      "cell_type": "markdown",
      "metadata": {
        "id": "ag-0B8i-BS-x"
      },
      "source": [
        "### Dataset statistic"
      ]
    },
    {
      "cell_type": "code",
      "execution_count": 384,
      "metadata": {
        "colab": {
          "base_uri": "https://localhost:8080/",
          "height": 394
        },
        "id": "9IOCh6I1BJ1y",
        "outputId": "6d1e3a16-53aa-462c-bfbf-2f2162000d57"
      },
      "outputs": [
        {
          "data": {
            "text/html": [
              "<div>\n",
              "<style scoped>\n",
              "    .dataframe tbody tr th:only-of-type {\n",
              "        vertical-align: middle;\n",
              "    }\n",
              "\n",
              "    .dataframe tbody tr th {\n",
              "        vertical-align: top;\n",
              "    }\n",
              "\n",
              "    .dataframe thead th {\n",
              "        text-align: right;\n",
              "    }\n",
              "</style>\n",
              "<table border=\"1\" class=\"dataframe\">\n",
              "  <thead>\n",
              "    <tr style=\"text-align: right;\">\n",
              "      <th></th>\n",
              "      <th>Unnamed: 0</th>\n",
              "      <th>Age</th>\n",
              "      <th>DailyRate</th>\n",
              "      <th>DistanceFromHome</th>\n",
              "      <th>Education</th>\n",
              "      <th>EmployeeCount</th>\n",
              "      <th>EmployeeNumber</th>\n",
              "      <th>EnvironmentSatisfaction</th>\n",
              "      <th>HourlyRate</th>\n",
              "      <th>JobInvolvement</th>\n",
              "      <th>...</th>\n",
              "      <th>RelationshipSatisfaction</th>\n",
              "      <th>StandardHours</th>\n",
              "      <th>StockOptionLevel</th>\n",
              "      <th>TotalWorkingYears</th>\n",
              "      <th>TrainingTimesLastYear</th>\n",
              "      <th>WorkLifeBalance</th>\n",
              "      <th>YearsAtCompany</th>\n",
              "      <th>YearsInCurrentRole</th>\n",
              "      <th>YearsSinceLastPromotion</th>\n",
              "      <th>YearsWithCurrManager</th>\n",
              "    </tr>\n",
              "  </thead>\n",
              "  <tbody>\n",
              "    <tr>\n",
              "      <th>count</th>\n",
              "      <td>1470.000000</td>\n",
              "      <td>1176.000000</td>\n",
              "      <td>1176.000000</td>\n",
              "      <td>1176.00000</td>\n",
              "      <td>1176.000000</td>\n",
              "      <td>1176.0</td>\n",
              "      <td>1176.000000</td>\n",
              "      <td>1176.000000</td>\n",
              "      <td>1176.000000</td>\n",
              "      <td>1176.000000</td>\n",
              "      <td>...</td>\n",
              "      <td>1176.000000</td>\n",
              "      <td>1176.0</td>\n",
              "      <td>1176.000000</td>\n",
              "      <td>1176.000000</td>\n",
              "      <td>1176.000000</td>\n",
              "      <td>1176.000000</td>\n",
              "      <td>1176.000000</td>\n",
              "      <td>1176.000000</td>\n",
              "      <td>1176.000000</td>\n",
              "      <td>1176.000000</td>\n",
              "    </tr>\n",
              "    <tr>\n",
              "      <th>mean</th>\n",
              "      <td>734.500000</td>\n",
              "      <td>37.134354</td>\n",
              "      <td>798.875850</td>\n",
              "      <td>9.37500</td>\n",
              "      <td>2.920918</td>\n",
              "      <td>1.0</td>\n",
              "      <td>1031.399660</td>\n",
              "      <td>2.733844</td>\n",
              "      <td>65.821429</td>\n",
              "      <td>2.728741</td>\n",
              "      <td>...</td>\n",
              "      <td>2.694728</td>\n",
              "      <td>80.0</td>\n",
              "      <td>0.752551</td>\n",
              "      <td>11.295068</td>\n",
              "      <td>2.787415</td>\n",
              "      <td>2.770408</td>\n",
              "      <td>7.067177</td>\n",
              "      <td>4.290816</td>\n",
              "      <td>2.159014</td>\n",
              "      <td>4.096939</td>\n",
              "    </tr>\n",
              "    <tr>\n",
              "      <th>std</th>\n",
              "      <td>424.496761</td>\n",
              "      <td>9.190317</td>\n",
              "      <td>406.957684</td>\n",
              "      <td>8.23049</td>\n",
              "      <td>1.028796</td>\n",
              "      <td>0.0</td>\n",
              "      <td>601.188955</td>\n",
              "      <td>1.092992</td>\n",
              "      <td>20.317323</td>\n",
              "      <td>0.705280</td>\n",
              "      <td>...</td>\n",
              "      <td>1.093660</td>\n",
              "      <td>0.0</td>\n",
              "      <td>0.822550</td>\n",
              "      <td>7.783376</td>\n",
              "      <td>1.290507</td>\n",
              "      <td>0.705004</td>\n",
              "      <td>6.127836</td>\n",
              "      <td>3.630901</td>\n",
              "      <td>3.163524</td>\n",
              "      <td>3.537393</td>\n",
              "    </tr>\n",
              "    <tr>\n",
              "      <th>min</th>\n",
              "      <td>0.000000</td>\n",
              "      <td>18.000000</td>\n",
              "      <td>102.000000</td>\n",
              "      <td>1.00000</td>\n",
              "      <td>1.000000</td>\n",
              "      <td>1.0</td>\n",
              "      <td>1.000000</td>\n",
              "      <td>1.000000</td>\n",
              "      <td>30.000000</td>\n",
              "      <td>1.000000</td>\n",
              "      <td>...</td>\n",
              "      <td>1.000000</td>\n",
              "      <td>80.0</td>\n",
              "      <td>0.000000</td>\n",
              "      <td>0.000000</td>\n",
              "      <td>0.000000</td>\n",
              "      <td>1.000000</td>\n",
              "      <td>0.000000</td>\n",
              "      <td>0.000000</td>\n",
              "      <td>0.000000</td>\n",
              "      <td>0.000000</td>\n",
              "    </tr>\n",
              "    <tr>\n",
              "      <th>25%</th>\n",
              "      <td>367.250000</td>\n",
              "      <td>30.000000</td>\n",
              "      <td>457.750000</td>\n",
              "      <td>2.00000</td>\n",
              "      <td>2.000000</td>\n",
              "      <td>1.0</td>\n",
              "      <td>494.750000</td>\n",
              "      <td>2.000000</td>\n",
              "      <td>48.000000</td>\n",
              "      <td>2.000000</td>\n",
              "      <td>...</td>\n",
              "      <td>2.000000</td>\n",
              "      <td>80.0</td>\n",
              "      <td>0.000000</td>\n",
              "      <td>6.000000</td>\n",
              "      <td>2.000000</td>\n",
              "      <td>2.000000</td>\n",
              "      <td>3.000000</td>\n",
              "      <td>2.000000</td>\n",
              "      <td>0.000000</td>\n",
              "      <td>2.000000</td>\n",
              "    </tr>\n",
              "    <tr>\n",
              "      <th>50%</th>\n",
              "      <td>734.500000</td>\n",
              "      <td>36.000000</td>\n",
              "      <td>798.500000</td>\n",
              "      <td>7.00000</td>\n",
              "      <td>3.000000</td>\n",
              "      <td>1.0</td>\n",
              "      <td>1027.500000</td>\n",
              "      <td>3.000000</td>\n",
              "      <td>66.000000</td>\n",
              "      <td>3.000000</td>\n",
              "      <td>...</td>\n",
              "      <td>3.000000</td>\n",
              "      <td>80.0</td>\n",
              "      <td>1.000000</td>\n",
              "      <td>10.000000</td>\n",
              "      <td>3.000000</td>\n",
              "      <td>3.000000</td>\n",
              "      <td>5.000000</td>\n",
              "      <td>3.000000</td>\n",
              "      <td>1.000000</td>\n",
              "      <td>3.000000</td>\n",
              "    </tr>\n",
              "    <tr>\n",
              "      <th>75%</th>\n",
              "      <td>1101.750000</td>\n",
              "      <td>43.000000</td>\n",
              "      <td>1168.250000</td>\n",
              "      <td>15.00000</td>\n",
              "      <td>4.000000</td>\n",
              "      <td>1.0</td>\n",
              "      <td>1562.250000</td>\n",
              "      <td>4.000000</td>\n",
              "      <td>84.000000</td>\n",
              "      <td>3.000000</td>\n",
              "      <td>...</td>\n",
              "      <td>4.000000</td>\n",
              "      <td>80.0</td>\n",
              "      <td>1.000000</td>\n",
              "      <td>15.000000</td>\n",
              "      <td>3.000000</td>\n",
              "      <td>3.000000</td>\n",
              "      <td>10.000000</td>\n",
              "      <td>7.000000</td>\n",
              "      <td>2.250000</td>\n",
              "      <td>7.000000</td>\n",
              "    </tr>\n",
              "    <tr>\n",
              "      <th>max</th>\n",
              "      <td>1469.000000</td>\n",
              "      <td>60.000000</td>\n",
              "      <td>1499.000000</td>\n",
              "      <td>29.00000</td>\n",
              "      <td>5.000000</td>\n",
              "      <td>1.0</td>\n",
              "      <td>2068.000000</td>\n",
              "      <td>4.000000</td>\n",
              "      <td>100.000000</td>\n",
              "      <td>4.000000</td>\n",
              "      <td>...</td>\n",
              "      <td>4.000000</td>\n",
              "      <td>80.0</td>\n",
              "      <td>3.000000</td>\n",
              "      <td>40.000000</td>\n",
              "      <td>6.000000</td>\n",
              "      <td>4.000000</td>\n",
              "      <td>37.000000</td>\n",
              "      <td>18.000000</td>\n",
              "      <td>15.000000</td>\n",
              "      <td>17.000000</td>\n",
              "    </tr>\n",
              "  </tbody>\n",
              "</table>\n",
              "<p>8 rows × 27 columns</p>\n",
              "</div>"
            ],
            "text/plain": [
              "        Unnamed: 0          Age    DailyRate  DistanceFromHome    Education  \\\n",
              "count  1470.000000  1176.000000  1176.000000        1176.00000  1176.000000   \n",
              "mean    734.500000    37.134354   798.875850           9.37500     2.920918   \n",
              "std     424.496761     9.190317   406.957684           8.23049     1.028796   \n",
              "min       0.000000    18.000000   102.000000           1.00000     1.000000   \n",
              "25%     367.250000    30.000000   457.750000           2.00000     2.000000   \n",
              "50%     734.500000    36.000000   798.500000           7.00000     3.000000   \n",
              "75%    1101.750000    43.000000  1168.250000          15.00000     4.000000   \n",
              "max    1469.000000    60.000000  1499.000000          29.00000     5.000000   \n",
              "\n",
              "       EmployeeCount  EmployeeNumber  EnvironmentSatisfaction   HourlyRate  \\\n",
              "count         1176.0     1176.000000              1176.000000  1176.000000   \n",
              "mean             1.0     1031.399660                 2.733844    65.821429   \n",
              "std              0.0      601.188955                 1.092992    20.317323   \n",
              "min              1.0        1.000000                 1.000000    30.000000   \n",
              "25%              1.0      494.750000                 2.000000    48.000000   \n",
              "50%              1.0     1027.500000                 3.000000    66.000000   \n",
              "75%              1.0     1562.250000                 4.000000    84.000000   \n",
              "max              1.0     2068.000000                 4.000000   100.000000   \n",
              "\n",
              "       JobInvolvement  ...  RelationshipSatisfaction  StandardHours  \\\n",
              "count     1176.000000  ...               1176.000000         1176.0   \n",
              "mean         2.728741  ...                  2.694728           80.0   \n",
              "std          0.705280  ...                  1.093660            0.0   \n",
              "min          1.000000  ...                  1.000000           80.0   \n",
              "25%          2.000000  ...                  2.000000           80.0   \n",
              "50%          3.000000  ...                  3.000000           80.0   \n",
              "75%          3.000000  ...                  4.000000           80.0   \n",
              "max          4.000000  ...                  4.000000           80.0   \n",
              "\n",
              "       StockOptionLevel  TotalWorkingYears  TrainingTimesLastYear  \\\n",
              "count       1176.000000        1176.000000            1176.000000   \n",
              "mean           0.752551          11.295068               2.787415   \n",
              "std            0.822550           7.783376               1.290507   \n",
              "min            0.000000           0.000000               0.000000   \n",
              "25%            0.000000           6.000000               2.000000   \n",
              "50%            1.000000          10.000000               3.000000   \n",
              "75%            1.000000          15.000000               3.000000   \n",
              "max            3.000000          40.000000               6.000000   \n",
              "\n",
              "       WorkLifeBalance  YearsAtCompany  YearsInCurrentRole  \\\n",
              "count      1176.000000     1176.000000         1176.000000   \n",
              "mean          2.770408        7.067177            4.290816   \n",
              "std           0.705004        6.127836            3.630901   \n",
              "min           1.000000        0.000000            0.000000   \n",
              "25%           2.000000        3.000000            2.000000   \n",
              "50%           3.000000        5.000000            3.000000   \n",
              "75%           3.000000       10.000000            7.000000   \n",
              "max           4.000000       37.000000           18.000000   \n",
              "\n",
              "       YearsSinceLastPromotion  YearsWithCurrManager  \n",
              "count              1176.000000           1176.000000  \n",
              "mean                  2.159014              4.096939  \n",
              "std                   3.163524              3.537393  \n",
              "min                   0.000000              0.000000  \n",
              "25%                   0.000000              2.000000  \n",
              "50%                   1.000000              3.000000  \n",
              "75%                   2.250000              7.000000  \n",
              "max                  15.000000             17.000000  \n",
              "\n",
              "[8 rows x 27 columns]"
            ]
          },
          "execution_count": 384,
          "metadata": {},
          "output_type": "execute_result"
        }
      ],
      "source": [
        "df.describe()"
      ]
    },
    {
      "cell_type": "code",
      "execution_count": 385,
      "metadata": {
        "colab": {
          "base_uri": "https://localhost:8080/",
          "height": 369
        },
        "id": "ncRpzKlfBb48",
        "outputId": "d03ca374-c2ea-42eb-9922-dfa7d8e4b410"
      },
      "outputs": [
        {
          "data": {
            "text/html": [
              "<div>\n",
              "<style scoped>\n",
              "    .dataframe tbody tr th:only-of-type {\n",
              "        vertical-align: middle;\n",
              "    }\n",
              "\n",
              "    .dataframe tbody tr th {\n",
              "        vertical-align: top;\n",
              "    }\n",
              "\n",
              "    .dataframe thead th {\n",
              "        text-align: right;\n",
              "    }\n",
              "</style>\n",
              "<table border=\"1\" class=\"dataframe\">\n",
              "  <thead>\n",
              "    <tr style=\"text-align: right;\">\n",
              "      <th></th>\n",
              "      <th>Unnamed: 0</th>\n",
              "      <th>Age</th>\n",
              "      <th>Attrition</th>\n",
              "      <th>BusinessTravel</th>\n",
              "      <th>DailyRate</th>\n",
              "      <th>Department</th>\n",
              "      <th>DistanceFromHome</th>\n",
              "      <th>Education</th>\n",
              "      <th>EducationField</th>\n",
              "      <th>EmployeeCount</th>\n",
              "      <th>...</th>\n",
              "      <th>RelationshipSatisfaction</th>\n",
              "      <th>StandardHours</th>\n",
              "      <th>StockOptionLevel</th>\n",
              "      <th>TotalWorkingYears</th>\n",
              "      <th>TrainingTimesLastYear</th>\n",
              "      <th>WorkLifeBalance</th>\n",
              "      <th>YearsAtCompany</th>\n",
              "      <th>YearsInCurrentRole</th>\n",
              "      <th>YearsSinceLastPromotion</th>\n",
              "      <th>YearsWithCurrManager</th>\n",
              "    </tr>\n",
              "  </thead>\n",
              "  <tbody>\n",
              "    <tr>\n",
              "      <th>0</th>\n",
              "      <td>0</td>\n",
              "      <td>41.0</td>\n",
              "      <td>Yes</td>\n",
              "      <td>Travel_Rarely</td>\n",
              "      <td>NaN</td>\n",
              "      <td>NaN</td>\n",
              "      <td>1.0</td>\n",
              "      <td>NaN</td>\n",
              "      <td>Life Sciences</td>\n",
              "      <td>1.0</td>\n",
              "      <td>...</td>\n",
              "      <td>1.0</td>\n",
              "      <td>80.0</td>\n",
              "      <td>0.0</td>\n",
              "      <td>8.0</td>\n",
              "      <td>0.0</td>\n",
              "      <td>NaN</td>\n",
              "      <td>6.0</td>\n",
              "      <td>NaN</td>\n",
              "      <td>0.0</td>\n",
              "      <td>NaN</td>\n",
              "    </tr>\n",
              "    <tr>\n",
              "      <th>1</th>\n",
              "      <td>1</td>\n",
              "      <td>NaN</td>\n",
              "      <td>No</td>\n",
              "      <td>NaN</td>\n",
              "      <td>279.0</td>\n",
              "      <td>Research &amp; Development</td>\n",
              "      <td>NaN</td>\n",
              "      <td>NaN</td>\n",
              "      <td>Life Sciences</td>\n",
              "      <td>1.0</td>\n",
              "      <td>...</td>\n",
              "      <td>4.0</td>\n",
              "      <td>NaN</td>\n",
              "      <td>1.0</td>\n",
              "      <td>10.0</td>\n",
              "      <td>NaN</td>\n",
              "      <td>3.0</td>\n",
              "      <td>10.0</td>\n",
              "      <td>NaN</td>\n",
              "      <td>NaN</td>\n",
              "      <td>7.0</td>\n",
              "    </tr>\n",
              "    <tr>\n",
              "      <th>2</th>\n",
              "      <td>2</td>\n",
              "      <td>37.0</td>\n",
              "      <td>Yes</td>\n",
              "      <td>NaN</td>\n",
              "      <td>1373.0</td>\n",
              "      <td>NaN</td>\n",
              "      <td>2.0</td>\n",
              "      <td>2.0</td>\n",
              "      <td>NaN</td>\n",
              "      <td>1.0</td>\n",
              "      <td>...</td>\n",
              "      <td>NaN</td>\n",
              "      <td>80.0</td>\n",
              "      <td>0.0</td>\n",
              "      <td>7.0</td>\n",
              "      <td>3.0</td>\n",
              "      <td>NaN</td>\n",
              "      <td>NaN</td>\n",
              "      <td>0.0</td>\n",
              "      <td>NaN</td>\n",
              "      <td>0.0</td>\n",
              "    </tr>\n",
              "    <tr>\n",
              "      <th>3</th>\n",
              "      <td>3</td>\n",
              "      <td>NaN</td>\n",
              "      <td>No</td>\n",
              "      <td>Travel_Frequently</td>\n",
              "      <td>1392.0</td>\n",
              "      <td>Research &amp; Development</td>\n",
              "      <td>3.0</td>\n",
              "      <td>4.0</td>\n",
              "      <td>Life Sciences</td>\n",
              "      <td>NaN</td>\n",
              "      <td>...</td>\n",
              "      <td>3.0</td>\n",
              "      <td>NaN</td>\n",
              "      <td>NaN</td>\n",
              "      <td>8.0</td>\n",
              "      <td>3.0</td>\n",
              "      <td>NaN</td>\n",
              "      <td>8.0</td>\n",
              "      <td>NaN</td>\n",
              "      <td>3.0</td>\n",
              "      <td>0.0</td>\n",
              "    </tr>\n",
              "    <tr>\n",
              "      <th>4</th>\n",
              "      <td>4</td>\n",
              "      <td>27.0</td>\n",
              "      <td>No</td>\n",
              "      <td>Travel_Rarely</td>\n",
              "      <td>591.0</td>\n",
              "      <td>Research &amp; Development</td>\n",
              "      <td>2.0</td>\n",
              "      <td>1.0</td>\n",
              "      <td>Medical</td>\n",
              "      <td>1.0</td>\n",
              "      <td>...</td>\n",
              "      <td>4.0</td>\n",
              "      <td>80.0</td>\n",
              "      <td>1.0</td>\n",
              "      <td>6.0</td>\n",
              "      <td>NaN</td>\n",
              "      <td>3.0</td>\n",
              "      <td>2.0</td>\n",
              "      <td>2.0</td>\n",
              "      <td>2.0</td>\n",
              "      <td>NaN</td>\n",
              "    </tr>\n",
              "    <tr>\n",
              "      <th>5</th>\n",
              "      <td>5</td>\n",
              "      <td>32.0</td>\n",
              "      <td>No</td>\n",
              "      <td>NaN</td>\n",
              "      <td>1005.0</td>\n",
              "      <td>Research &amp; Development</td>\n",
              "      <td>2.0</td>\n",
              "      <td>2.0</td>\n",
              "      <td>NaN</td>\n",
              "      <td>1.0</td>\n",
              "      <td>...</td>\n",
              "      <td>3.0</td>\n",
              "      <td>80.0</td>\n",
              "      <td>0.0</td>\n",
              "      <td>NaN</td>\n",
              "      <td>2.0</td>\n",
              "      <td>NaN</td>\n",
              "      <td>7.0</td>\n",
              "      <td>7.0</td>\n",
              "      <td>NaN</td>\n",
              "      <td>NaN</td>\n",
              "    </tr>\n",
              "    <tr>\n",
              "      <th>6</th>\n",
              "      <td>6</td>\n",
              "      <td>NaN</td>\n",
              "      <td>No</td>\n",
              "      <td>NaN</td>\n",
              "      <td>NaN</td>\n",
              "      <td>Research &amp; Development</td>\n",
              "      <td>3.0</td>\n",
              "      <td>3.0</td>\n",
              "      <td>Medical</td>\n",
              "      <td>NaN</td>\n",
              "      <td>...</td>\n",
              "      <td>NaN</td>\n",
              "      <td>80.0</td>\n",
              "      <td>3.0</td>\n",
              "      <td>12.0</td>\n",
              "      <td>3.0</td>\n",
              "      <td>NaN</td>\n",
              "      <td>1.0</td>\n",
              "      <td>NaN</td>\n",
              "      <td>0.0</td>\n",
              "      <td>0.0</td>\n",
              "    </tr>\n",
              "    <tr>\n",
              "      <th>7</th>\n",
              "      <td>7</td>\n",
              "      <td>30.0</td>\n",
              "      <td>No</td>\n",
              "      <td>Travel_Rarely</td>\n",
              "      <td>1358.0</td>\n",
              "      <td>Research &amp; Development</td>\n",
              "      <td>24.0</td>\n",
              "      <td>1.0</td>\n",
              "      <td>Life Sciences</td>\n",
              "      <td>1.0</td>\n",
              "      <td>...</td>\n",
              "      <td>2.0</td>\n",
              "      <td>80.0</td>\n",
              "      <td>1.0</td>\n",
              "      <td>1.0</td>\n",
              "      <td>2.0</td>\n",
              "      <td>3.0</td>\n",
              "      <td>1.0</td>\n",
              "      <td>0.0</td>\n",
              "      <td>0.0</td>\n",
              "      <td>0.0</td>\n",
              "    </tr>\n",
              "    <tr>\n",
              "      <th>8</th>\n",
              "      <td>8</td>\n",
              "      <td>38.0</td>\n",
              "      <td>No</td>\n",
              "      <td>Travel_Frequently</td>\n",
              "      <td>216.0</td>\n",
              "      <td>Research &amp; Development</td>\n",
              "      <td>NaN</td>\n",
              "      <td>3.0</td>\n",
              "      <td>Life Sciences</td>\n",
              "      <td>1.0</td>\n",
              "      <td>...</td>\n",
              "      <td>NaN</td>\n",
              "      <td>NaN</td>\n",
              "      <td>0.0</td>\n",
              "      <td>10.0</td>\n",
              "      <td>2.0</td>\n",
              "      <td>3.0</td>\n",
              "      <td>9.0</td>\n",
              "      <td>7.0</td>\n",
              "      <td>1.0</td>\n",
              "      <td>8.0</td>\n",
              "    </tr>\n",
              "    <tr>\n",
              "      <th>9</th>\n",
              "      <td>9</td>\n",
              "      <td>NaN</td>\n",
              "      <td>No</td>\n",
              "      <td>Travel_Rarely</td>\n",
              "      <td>1299.0</td>\n",
              "      <td>Research &amp; Development</td>\n",
              "      <td>NaN</td>\n",
              "      <td>3.0</td>\n",
              "      <td>NaN</td>\n",
              "      <td>1.0</td>\n",
              "      <td>...</td>\n",
              "      <td>2.0</td>\n",
              "      <td>80.0</td>\n",
              "      <td>2.0</td>\n",
              "      <td>17.0</td>\n",
              "      <td>3.0</td>\n",
              "      <td>2.0</td>\n",
              "      <td>7.0</td>\n",
              "      <td>7.0</td>\n",
              "      <td>NaN</td>\n",
              "      <td>7.0</td>\n",
              "    </tr>\n",
              "  </tbody>\n",
              "</table>\n",
              "<p>10 rows × 36 columns</p>\n",
              "</div>"
            ],
            "text/plain": [
              "   Unnamed: 0   Age Attrition     BusinessTravel  DailyRate  \\\n",
              "0           0  41.0       Yes      Travel_Rarely        NaN   \n",
              "1           1   NaN        No                NaN      279.0   \n",
              "2           2  37.0       Yes                NaN     1373.0   \n",
              "3           3   NaN        No  Travel_Frequently     1392.0   \n",
              "4           4  27.0        No      Travel_Rarely      591.0   \n",
              "5           5  32.0        No                NaN     1005.0   \n",
              "6           6   NaN        No                NaN        NaN   \n",
              "7           7  30.0        No      Travel_Rarely     1358.0   \n",
              "8           8  38.0        No  Travel_Frequently      216.0   \n",
              "9           9   NaN        No      Travel_Rarely     1299.0   \n",
              "\n",
              "               Department  DistanceFromHome  Education EducationField  \\\n",
              "0                     NaN               1.0        NaN  Life Sciences   \n",
              "1  Research & Development               NaN        NaN  Life Sciences   \n",
              "2                     NaN               2.0        2.0            NaN   \n",
              "3  Research & Development               3.0        4.0  Life Sciences   \n",
              "4  Research & Development               2.0        1.0        Medical   \n",
              "5  Research & Development               2.0        2.0            NaN   \n",
              "6  Research & Development               3.0        3.0        Medical   \n",
              "7  Research & Development              24.0        1.0  Life Sciences   \n",
              "8  Research & Development               NaN        3.0  Life Sciences   \n",
              "9  Research & Development               NaN        3.0            NaN   \n",
              "\n",
              "   EmployeeCount  ...  RelationshipSatisfaction  StandardHours  \\\n",
              "0            1.0  ...                       1.0           80.0   \n",
              "1            1.0  ...                       4.0            NaN   \n",
              "2            1.0  ...                       NaN           80.0   \n",
              "3            NaN  ...                       3.0            NaN   \n",
              "4            1.0  ...                       4.0           80.0   \n",
              "5            1.0  ...                       3.0           80.0   \n",
              "6            NaN  ...                       NaN           80.0   \n",
              "7            1.0  ...                       2.0           80.0   \n",
              "8            1.0  ...                       NaN            NaN   \n",
              "9            1.0  ...                       2.0           80.0   \n",
              "\n",
              "  StockOptionLevel  TotalWorkingYears  TrainingTimesLastYear  WorkLifeBalance  \\\n",
              "0              0.0                8.0                    0.0              NaN   \n",
              "1              1.0               10.0                    NaN              3.0   \n",
              "2              0.0                7.0                    3.0              NaN   \n",
              "3              NaN                8.0                    3.0              NaN   \n",
              "4              1.0                6.0                    NaN              3.0   \n",
              "5              0.0                NaN                    2.0              NaN   \n",
              "6              3.0               12.0                    3.0              NaN   \n",
              "7              1.0                1.0                    2.0              3.0   \n",
              "8              0.0               10.0                    2.0              3.0   \n",
              "9              2.0               17.0                    3.0              2.0   \n",
              "\n",
              "  YearsAtCompany  YearsInCurrentRole YearsSinceLastPromotion  \\\n",
              "0            6.0                 NaN                     0.0   \n",
              "1           10.0                 NaN                     NaN   \n",
              "2            NaN                 0.0                     NaN   \n",
              "3            8.0                 NaN                     3.0   \n",
              "4            2.0                 2.0                     2.0   \n",
              "5            7.0                 7.0                     NaN   \n",
              "6            1.0                 NaN                     0.0   \n",
              "7            1.0                 0.0                     0.0   \n",
              "8            9.0                 7.0                     1.0   \n",
              "9            7.0                 7.0                     NaN   \n",
              "\n",
              "   YearsWithCurrManager  \n",
              "0                   NaN  \n",
              "1                   7.0  \n",
              "2                   0.0  \n",
              "3                   0.0  \n",
              "4                   NaN  \n",
              "5                   NaN  \n",
              "6                   0.0  \n",
              "7                   0.0  \n",
              "8                   8.0  \n",
              "9                   7.0  \n",
              "\n",
              "[10 rows x 36 columns]"
            ]
          },
          "execution_count": 385,
          "metadata": {},
          "output_type": "execute_result"
        }
      ],
      "source": [
        "df.head(10)"
      ]
    },
    {
      "attachments": {},
      "cell_type": "markdown",
      "metadata": {
        "id": "NApae3ygBbEa"
      },
      "source": [
        "### Feature transformation"
      ]
    },
    {
      "cell_type": "code",
      "execution_count": 386,
      "metadata": {
        "id": "9C3vuRArBKEe"
      },
      "outputs": [
        {
          "name": "stderr",
          "output_type": "stream",
          "text": [
            "c:\\Users\\theepob\\anaconda3\\lib\\site-packages\\pandas\\core\\algorithms.py:798: FutureWarning: In a future version, the Index constructor will not infer numeric dtypes when passed object-dtype sequences (matching Series behavior)\n",
            "  uniques = Index(uniques)\n"
          ]
        }
      ],
      "source": [
        "df.loc[df[\"Attrition\"] == \"No\", \"Attrition\"] = 0.0\n",
        "df.loc[df[\"Attrition\"] == \"Yes\", \"Attrition\"] = 1.0\n",
        "string_categorical_col = ['Department', 'Attrition', 'BusinessTravel', 'EducationField', 'Gender', 'JobRole',\n",
        "                              'MaritalStatus', 'Over18', 'OverTime']\n",
        "\n",
        "\n",
        "\n",
        "# ENCODE STRING COLUMNS TO CATEGORICAL COLUMNS\n",
        "for col in string_categorical_col:\n",
        "    # INSERT CODE HERE\n",
        "    df[col]=pd.Categorical(df[col]).codes\n",
        "# HANDLE NULL NUMBERS\n",
        "# INSERT CODE HERE\n",
        "\n",
        "df = df.loc[:, ~df.columns.isin(['EmployeeNumber', 'Unnamed: 0', 'EmployeeCount', 'StandardHours', 'Over18'])]"
      ]
    },
    {
      "cell_type": "code",
      "execution_count": 387,
      "metadata": {},
      "outputs": [
        {
          "data": {
            "text/html": [
              "<div>\n",
              "<style scoped>\n",
              "    .dataframe tbody tr th:only-of-type {\n",
              "        vertical-align: middle;\n",
              "    }\n",
              "\n",
              "    .dataframe tbody tr th {\n",
              "        vertical-align: top;\n",
              "    }\n",
              "\n",
              "    .dataframe thead th {\n",
              "        text-align: right;\n",
              "    }\n",
              "</style>\n",
              "<table border=\"1\" class=\"dataframe\">\n",
              "  <thead>\n",
              "    <tr style=\"text-align: right;\">\n",
              "      <th></th>\n",
              "      <th>Age</th>\n",
              "      <th>Attrition</th>\n",
              "      <th>BusinessTravel</th>\n",
              "      <th>DailyRate</th>\n",
              "      <th>Department</th>\n",
              "      <th>DistanceFromHome</th>\n",
              "      <th>Education</th>\n",
              "      <th>EducationField</th>\n",
              "      <th>EnvironmentSatisfaction</th>\n",
              "      <th>Gender</th>\n",
              "      <th>...</th>\n",
              "      <th>PerformanceRating</th>\n",
              "      <th>RelationshipSatisfaction</th>\n",
              "      <th>StockOptionLevel</th>\n",
              "      <th>TotalWorkingYears</th>\n",
              "      <th>TrainingTimesLastYear</th>\n",
              "      <th>WorkLifeBalance</th>\n",
              "      <th>YearsAtCompany</th>\n",
              "      <th>YearsInCurrentRole</th>\n",
              "      <th>YearsSinceLastPromotion</th>\n",
              "      <th>YearsWithCurrManager</th>\n",
              "    </tr>\n",
              "  </thead>\n",
              "  <tbody>\n",
              "    <tr>\n",
              "      <th>0</th>\n",
              "      <td>41.0</td>\n",
              "      <td>1</td>\n",
              "      <td>2</td>\n",
              "      <td>NaN</td>\n",
              "      <td>-1</td>\n",
              "      <td>1.0</td>\n",
              "      <td>NaN</td>\n",
              "      <td>1</td>\n",
              "      <td>2.0</td>\n",
              "      <td>0</td>\n",
              "      <td>...</td>\n",
              "      <td>NaN</td>\n",
              "      <td>1.0</td>\n",
              "      <td>0.0</td>\n",
              "      <td>8.0</td>\n",
              "      <td>0.0</td>\n",
              "      <td>NaN</td>\n",
              "      <td>6.0</td>\n",
              "      <td>NaN</td>\n",
              "      <td>0.0</td>\n",
              "      <td>NaN</td>\n",
              "    </tr>\n",
              "    <tr>\n",
              "      <th>1</th>\n",
              "      <td>NaN</td>\n",
              "      <td>0</td>\n",
              "      <td>-1</td>\n",
              "      <td>279.0</td>\n",
              "      <td>1</td>\n",
              "      <td>NaN</td>\n",
              "      <td>NaN</td>\n",
              "      <td>1</td>\n",
              "      <td>3.0</td>\n",
              "      <td>1</td>\n",
              "      <td>...</td>\n",
              "      <td>NaN</td>\n",
              "      <td>4.0</td>\n",
              "      <td>1.0</td>\n",
              "      <td>10.0</td>\n",
              "      <td>NaN</td>\n",
              "      <td>3.0</td>\n",
              "      <td>10.0</td>\n",
              "      <td>NaN</td>\n",
              "      <td>NaN</td>\n",
              "      <td>7.0</td>\n",
              "    </tr>\n",
              "    <tr>\n",
              "      <th>2</th>\n",
              "      <td>37.0</td>\n",
              "      <td>1</td>\n",
              "      <td>-1</td>\n",
              "      <td>1373.0</td>\n",
              "      <td>-1</td>\n",
              "      <td>2.0</td>\n",
              "      <td>2.0</td>\n",
              "      <td>-1</td>\n",
              "      <td>NaN</td>\n",
              "      <td>1</td>\n",
              "      <td>...</td>\n",
              "      <td>3.0</td>\n",
              "      <td>NaN</td>\n",
              "      <td>0.0</td>\n",
              "      <td>7.0</td>\n",
              "      <td>3.0</td>\n",
              "      <td>NaN</td>\n",
              "      <td>NaN</td>\n",
              "      <td>0.0</td>\n",
              "      <td>NaN</td>\n",
              "      <td>0.0</td>\n",
              "    </tr>\n",
              "    <tr>\n",
              "      <th>3</th>\n",
              "      <td>NaN</td>\n",
              "      <td>0</td>\n",
              "      <td>1</td>\n",
              "      <td>1392.0</td>\n",
              "      <td>1</td>\n",
              "      <td>3.0</td>\n",
              "      <td>4.0</td>\n",
              "      <td>1</td>\n",
              "      <td>NaN</td>\n",
              "      <td>0</td>\n",
              "      <td>...</td>\n",
              "      <td>3.0</td>\n",
              "      <td>3.0</td>\n",
              "      <td>NaN</td>\n",
              "      <td>8.0</td>\n",
              "      <td>3.0</td>\n",
              "      <td>NaN</td>\n",
              "      <td>8.0</td>\n",
              "      <td>NaN</td>\n",
              "      <td>3.0</td>\n",
              "      <td>0.0</td>\n",
              "    </tr>\n",
              "    <tr>\n",
              "      <th>4</th>\n",
              "      <td>27.0</td>\n",
              "      <td>0</td>\n",
              "      <td>2</td>\n",
              "      <td>591.0</td>\n",
              "      <td>1</td>\n",
              "      <td>2.0</td>\n",
              "      <td>1.0</td>\n",
              "      <td>3</td>\n",
              "      <td>1.0</td>\n",
              "      <td>1</td>\n",
              "      <td>...</td>\n",
              "      <td>3.0</td>\n",
              "      <td>4.0</td>\n",
              "      <td>1.0</td>\n",
              "      <td>6.0</td>\n",
              "      <td>NaN</td>\n",
              "      <td>3.0</td>\n",
              "      <td>2.0</td>\n",
              "      <td>2.0</td>\n",
              "      <td>2.0</td>\n",
              "      <td>NaN</td>\n",
              "    </tr>\n",
              "    <tr>\n",
              "      <th>5</th>\n",
              "      <td>32.0</td>\n",
              "      <td>0</td>\n",
              "      <td>-1</td>\n",
              "      <td>1005.0</td>\n",
              "      <td>1</td>\n",
              "      <td>2.0</td>\n",
              "      <td>2.0</td>\n",
              "      <td>-1</td>\n",
              "      <td>NaN</td>\n",
              "      <td>1</td>\n",
              "      <td>...</td>\n",
              "      <td>3.0</td>\n",
              "      <td>3.0</td>\n",
              "      <td>0.0</td>\n",
              "      <td>NaN</td>\n",
              "      <td>2.0</td>\n",
              "      <td>NaN</td>\n",
              "      <td>7.0</td>\n",
              "      <td>7.0</td>\n",
              "      <td>NaN</td>\n",
              "      <td>NaN</td>\n",
              "    </tr>\n",
              "    <tr>\n",
              "      <th>6</th>\n",
              "      <td>NaN</td>\n",
              "      <td>0</td>\n",
              "      <td>-1</td>\n",
              "      <td>NaN</td>\n",
              "      <td>1</td>\n",
              "      <td>3.0</td>\n",
              "      <td>3.0</td>\n",
              "      <td>3</td>\n",
              "      <td>3.0</td>\n",
              "      <td>0</td>\n",
              "      <td>...</td>\n",
              "      <td>4.0</td>\n",
              "      <td>NaN</td>\n",
              "      <td>3.0</td>\n",
              "      <td>12.0</td>\n",
              "      <td>3.0</td>\n",
              "      <td>NaN</td>\n",
              "      <td>1.0</td>\n",
              "      <td>NaN</td>\n",
              "      <td>0.0</td>\n",
              "      <td>0.0</td>\n",
              "    </tr>\n",
              "    <tr>\n",
              "      <th>7</th>\n",
              "      <td>30.0</td>\n",
              "      <td>0</td>\n",
              "      <td>2</td>\n",
              "      <td>1358.0</td>\n",
              "      <td>1</td>\n",
              "      <td>24.0</td>\n",
              "      <td>1.0</td>\n",
              "      <td>1</td>\n",
              "      <td>NaN</td>\n",
              "      <td>-1</td>\n",
              "      <td>...</td>\n",
              "      <td>4.0</td>\n",
              "      <td>2.0</td>\n",
              "      <td>1.0</td>\n",
              "      <td>1.0</td>\n",
              "      <td>2.0</td>\n",
              "      <td>3.0</td>\n",
              "      <td>1.0</td>\n",
              "      <td>0.0</td>\n",
              "      <td>0.0</td>\n",
              "      <td>0.0</td>\n",
              "    </tr>\n",
              "    <tr>\n",
              "      <th>8</th>\n",
              "      <td>38.0</td>\n",
              "      <td>0</td>\n",
              "      <td>1</td>\n",
              "      <td>216.0</td>\n",
              "      <td>1</td>\n",
              "      <td>NaN</td>\n",
              "      <td>3.0</td>\n",
              "      <td>1</td>\n",
              "      <td>4.0</td>\n",
              "      <td>1</td>\n",
              "      <td>...</td>\n",
              "      <td>4.0</td>\n",
              "      <td>NaN</td>\n",
              "      <td>0.0</td>\n",
              "      <td>10.0</td>\n",
              "      <td>2.0</td>\n",
              "      <td>3.0</td>\n",
              "      <td>9.0</td>\n",
              "      <td>7.0</td>\n",
              "      <td>1.0</td>\n",
              "      <td>8.0</td>\n",
              "    </tr>\n",
              "    <tr>\n",
              "      <th>9</th>\n",
              "      <td>NaN</td>\n",
              "      <td>0</td>\n",
              "      <td>2</td>\n",
              "      <td>1299.0</td>\n",
              "      <td>1</td>\n",
              "      <td>NaN</td>\n",
              "      <td>3.0</td>\n",
              "      <td>-1</td>\n",
              "      <td>3.0</td>\n",
              "      <td>1</td>\n",
              "      <td>...</td>\n",
              "      <td>3.0</td>\n",
              "      <td>2.0</td>\n",
              "      <td>2.0</td>\n",
              "      <td>17.0</td>\n",
              "      <td>3.0</td>\n",
              "      <td>2.0</td>\n",
              "      <td>7.0</td>\n",
              "      <td>7.0</td>\n",
              "      <td>NaN</td>\n",
              "      <td>7.0</td>\n",
              "    </tr>\n",
              "  </tbody>\n",
              "</table>\n",
              "<p>10 rows × 31 columns</p>\n",
              "</div>"
            ],
            "text/plain": [
              "    Age  Attrition  BusinessTravel  DailyRate  Department  DistanceFromHome  \\\n",
              "0  41.0          1               2        NaN          -1               1.0   \n",
              "1   NaN          0              -1      279.0           1               NaN   \n",
              "2  37.0          1              -1     1373.0          -1               2.0   \n",
              "3   NaN          0               1     1392.0           1               3.0   \n",
              "4  27.0          0               2      591.0           1               2.0   \n",
              "5  32.0          0              -1     1005.0           1               2.0   \n",
              "6   NaN          0              -1        NaN           1               3.0   \n",
              "7  30.0          0               2     1358.0           1              24.0   \n",
              "8  38.0          0               1      216.0           1               NaN   \n",
              "9   NaN          0               2     1299.0           1               NaN   \n",
              "\n",
              "   Education  EducationField  EnvironmentSatisfaction  Gender  ...  \\\n",
              "0        NaN               1                      2.0       0  ...   \n",
              "1        NaN               1                      3.0       1  ...   \n",
              "2        2.0              -1                      NaN       1  ...   \n",
              "3        4.0               1                      NaN       0  ...   \n",
              "4        1.0               3                      1.0       1  ...   \n",
              "5        2.0              -1                      NaN       1  ...   \n",
              "6        3.0               3                      3.0       0  ...   \n",
              "7        1.0               1                      NaN      -1  ...   \n",
              "8        3.0               1                      4.0       1  ...   \n",
              "9        3.0              -1                      3.0       1  ...   \n",
              "\n",
              "   PerformanceRating  RelationshipSatisfaction  StockOptionLevel  \\\n",
              "0                NaN                       1.0               0.0   \n",
              "1                NaN                       4.0               1.0   \n",
              "2                3.0                       NaN               0.0   \n",
              "3                3.0                       3.0               NaN   \n",
              "4                3.0                       4.0               1.0   \n",
              "5                3.0                       3.0               0.0   \n",
              "6                4.0                       NaN               3.0   \n",
              "7                4.0                       2.0               1.0   \n",
              "8                4.0                       NaN               0.0   \n",
              "9                3.0                       2.0               2.0   \n",
              "\n",
              "   TotalWorkingYears  TrainingTimesLastYear  WorkLifeBalance  YearsAtCompany  \\\n",
              "0                8.0                    0.0              NaN             6.0   \n",
              "1               10.0                    NaN              3.0            10.0   \n",
              "2                7.0                    3.0              NaN             NaN   \n",
              "3                8.0                    3.0              NaN             8.0   \n",
              "4                6.0                    NaN              3.0             2.0   \n",
              "5                NaN                    2.0              NaN             7.0   \n",
              "6               12.0                    3.0              NaN             1.0   \n",
              "7                1.0                    2.0              3.0             1.0   \n",
              "8               10.0                    2.0              3.0             9.0   \n",
              "9               17.0                    3.0              2.0             7.0   \n",
              "\n",
              "   YearsInCurrentRole  YearsSinceLastPromotion  YearsWithCurrManager  \n",
              "0                 NaN                      0.0                   NaN  \n",
              "1                 NaN                      NaN                   7.0  \n",
              "2                 0.0                      NaN                   0.0  \n",
              "3                 NaN                      3.0                   0.0  \n",
              "4                 2.0                      2.0                   NaN  \n",
              "5                 7.0                      NaN                   NaN  \n",
              "6                 NaN                      0.0                   0.0  \n",
              "7                 0.0                      0.0                   0.0  \n",
              "8                 7.0                      1.0                   8.0  \n",
              "9                 7.0                      NaN                   7.0  \n",
              "\n",
              "[10 rows x 31 columns]"
            ]
          },
          "execution_count": 387,
          "metadata": {},
          "output_type": "execute_result"
        }
      ],
      "source": [
        "df.head(10)"
      ]
    },
    {
      "attachments": {},
      "cell_type": "markdown",
      "metadata": {
        "id": "q1sVXHQBGAQJ"
      },
      "source": [
        "###  Spliting data into train and test"
      ]
    },
    {
      "cell_type": "code",
      "execution_count": 388,
      "metadata": {},
      "outputs": [],
      "source": [
        "from sklearn.model_selection import train_test_split"
      ]
    },
    {
      "cell_type": "code",
      "execution_count": 389,
      "metadata": {},
      "outputs": [
        {
          "name": "stdout",
          "output_type": "stream",
          "text": [
            "X_train (1323, 30)\n",
            "X_test (147, 30)\n",
            "y_train (1323,)\n",
            "y_test  (147,)\n"
          ]
        }
      ],
      "source": [
        "X_train, X_test, y_train, y_test=train_test_split(df.loc[:, ~df.columns.isin(['Attrition'])],df[\"Attrition\"],test_size=0.1,shuffle=False)\n",
        "print(\"X_train\", X_train.shape)\n",
        "print(\"X_test\", X_test.shape)\n",
        "print(\"y_train\", y_train.shape)\n",
        "print(\"y_test \", y_test.shape)"
      ]
    },
    {
      "attachments": {},
      "cell_type": "markdown",
      "metadata": {
        "id": "6wH3pKLhLKw1"
      },
      "source": [
        "### T4. Observe the histogram for Age, MonthlyIncome and DistanceFromHome. How many bins have zero counts? Do you think this is a good discretization? Why?"
      ]
    },
    {
      "attachments": {},
      "cell_type": "markdown",
      "metadata": {
        "id": "edasSXrRHuFm"
      },
      "source": [
        "### Display histogram of each feature"
      ]
    },
    {
      "cell_type": "code",
      "execution_count": 390,
      "metadata": {},
      "outputs": [],
      "source": [
        "def display_histogram(df, col_name, n_bin = 40):\n",
        "    for col in col_name:\n",
        "        plt.hist(df[col],n_bin,edgecolor=\"blue\")\n",
        "        plt.xlabel(col)\n",
        "        plt.ylabel(\"Frequency\")\n",
        "        plt.show()"
      ]
    },
    {
      "cell_type": "code",
      "execution_count": 391,
      "metadata": {},
      "outputs": [
        {
          "name": "stdout",
          "output_type": "stream",
          "text": [
            "T4\n"
          ]
        },
        {
          "data": {
            "image/png": "[encoded data removed]",
            "text/plain": [
              "<Figure size 432x288 with 1 Axes>"
            ]
          },
          "metadata": {
            "needs_background": "light"
          },
          "output_type": "display_data"
        },
        {
          "data": {
            "image/png": "[encoded data removed]",
            "text/plain": [
              "<Figure size 432x288 with 1 Axes>"
            ]
          },
          "metadata": {
            "needs_background": "light"
          },
          "output_type": "display_data"
        },
        {
          "data": {
            "image/png": "[encoded data removed]",
            "text/plain": [
              "<Figure size 432x288 with 1 Axes>"
            ]
          },
          "metadata": {
            "needs_background": "light"
          },
          "output_type": "display_data"
        }
      ],
      "source": [
        "print(\"T4\")\n",
        "display_histogram(df,[\"Age\",\"MonthlyIncome\",\"DistanceFromHome\"])"
      ]
    },
    {
      "attachments": {},
      "cell_type": "markdown",
      "metadata": {
        "id": "BaLY_n3oOlGe"
      },
      "source": [
        "### T5. Can we use a Gaussian to estimate this histogram? Why? What about a Gaussian Mixture Model (GMM)?"
      ]
    },
    {
      "cell_type": "markdown",
      "metadata": {},
      "source": [
        "ANS: Ageสามารถใช้Gaussianได้เพราะโค้งค่อนข้างเข้สรูปแบบGaussian แต่MonthlyIncomeกับDistanceFromHomeไม่ได้ อาจต้องใช้ distributionอื่น หรือใช้ GMM มาสร้างโค้งที่เข้ารูปกับข้อมูล                                                   "
      ]
    },
    {
      "attachments": {},
      "cell_type": "markdown",
      "metadata": {
        "id": "JMbbl306QrEs"
      },
      "source": [
        "### T6. Now plot the histogram according to the method described above (with 10, 40, and 100 bins) and show 3 plots each for Age, MonthlyIncome, and DistanceFromHome. Which bin size is most sensible for each features? Why?"
      ]
    },
    {
      "cell_type": "code",
      "execution_count": 392,
      "metadata": {},
      "outputs": [
        {
          "name": "stdout",
          "output_type": "stream",
          "text": [
            "bin = 10\n"
          ]
        },
        {
          "data": {
            "image/png": "[encoded data removed]",
            "text/plain": [
              "<Figure size 432x288 with 1 Axes>"
            ]
          },
          "metadata": {
            "needs_background": "light"
          },
          "output_type": "display_data"
        },
        {
          "data": {
            "image/png": "[encoded data removed]",
            "text/plain": [
              "<Figure size 432x288 with 1 Axes>"
            ]
          },
          "metadata": {
            "needs_background": "light"
          },
          "output_type": "display_data"
        },
        {
          "data": {
            "image/png": "[encoded data removed]",
            "text/plain": [
              "<Figure size 432x288 with 1 Axes>"
            ]
          },
          "metadata": {
            "needs_background": "light"
          },
          "output_type": "display_data"
        },
        {
          "name": "stdout",
          "output_type": "stream",
          "text": [
            "--------------------------------------------------------------------------------\n",
            "bin = 40\n"
          ]
        },
        {
          "data": {
            "image/png": "[encoded data removed]",
            "text/plain": [
              "<Figure size 432x288 with 1 Axes>"
            ]
          },
          "metadata": {
            "needs_background": "light"
          },
          "output_type": "display_data"
        },
        {
          "data": {
            "image/png": "[encoded data removed]",
            "text/plain": [
              "<Figure size 432x288 with 1 Axes>"
            ]
          },
          "metadata": {
            "needs_background": "light"
          },
          "output_type": "display_data"
        },
        {
          "data": {
            "image/png": "[encoded data removed]",
            "text/plain": [
              "<Figure size 432x288 with 1 Axes>"
            ]
          },
          "metadata": {
            "needs_background": "light"
          },
          "output_type": "display_data"
        },
        {
          "name": "stdout",
          "output_type": "stream",
          "text": [
            "--------------------------------------------------------------------------------\n",
            "bin = 100\n"
          ]
        },
        {
          "data": {
            "image/png": "[encoded data removed]",
            "text/plain": [
              "<Figure size 432x288 with 1 Axes>"
            ]
          },
          "metadata": {
            "needs_background": "light"
          },
          "output_type": "display_data"
        },
        {
          "data": {
            "image/png": "[encoded data removed]",
            "text/plain": [
              "<Figure size 432x288 with 1 Axes>"
            ]
          },
          "metadata": {
            "needs_background": "light"
          },
          "output_type": "display_data"
        },
        {
          "data": {
            "image/png": "[encoded data removed]",
            "text/plain": [
              "<Figure size 432x288 with 1 Axes>"
            ]
          },
          "metadata": {
            "needs_background": "light"
          },
          "output_type": "display_data"
        },
        {
          "name": "stdout",
          "output_type": "stream",
          "text": [
            "--------------------------------------------------------------------------------\n"
          ]
        }
      ],
      "source": [
        "bins=[10,40,100]\n",
        "for bin in bins:\n",
        "    print(\"bin =\",bin)\n",
        "    display_histogram(df,[\"Age\",\"MonthlyIncome\",\"DistanceFromHome\"],bin)\n",
        "    print(\"--------------------------------------------------------------------------------\")\n",
        "    "
      ]
    },
    {
      "attachments": {},
      "cell_type": "markdown",
      "metadata": {
        "id": "NlpUyIIuN0Hi"
      },
      "source": [
        "### T7. For the rest of the features, which one should be discretized in order to be modeled by histograms? What are the criteria for choosing whether we should discretize a feature or not? Answer this and discretize those features into 10 bins each. In other words, figure out the bin edge for each feature, then use digitize() to convert the features to discrete values"
      ]
    },
    {
      "cell_type": "code",
      "execution_count": 393,
      "metadata": {},
      "outputs": [
        {
          "data": {
            "image/png": "[encoded data removed]",
            "text/plain": [
              "<Figure size 1080x1080 with 16 Axes>"
            ]
          },
          "metadata": {
            "needs_background": "light"
          },
          "output_type": "display_data"
        }
      ],
      "source": [
        "def display_histogram2(df, col_name, cls, n_bin = 40):\n",
        " df_col_no_nan = df[~np.isnan(df[col])]\n",
        " cls.hist(df_col_no_nan[col_name], bins=n_bin)\n",
        " cls.set_title(col_name)\n",
        "\n",
        "selected = [\"Age\", \"DailyRate\", \"DistanceFromHome\", \"EnvironmentSatisfaction\", \"HourlyRate\",\n",
        " \"JobInvolvement\", \"JobLevel\", \"JobSatisfaction\", \"MonthlyIncome\", \"MonthlyRate\",\n",
        " \"NumCompaniesWorked\", \"OverTime\", \"StockOptionLevel\", \"TotalWorkingYears\", \"YearsAtCompany\"]\n",
        "\n",
        "train, test = train_test_split(df, train_size=0.9, stratify=df[\"Attrition\"])\n",
        "train_stay = train.loc[train[\"Attrition\"] == 0.0].copy()\n",
        "train_leave = train.loc[train[\"Attrition\"] == 1.0].copy()\n",
        "fig, ax = plt.subplots(4, 4, figsize=(15, 15))\n",
        "for i in range(4):\n",
        " for j in range(4):\n",
        "    if (4 * i + j >= len(selected)): break\n",
        "    display_histogram2(train_stay, selected[4 * i + j], ax[i, j], 10)\n",
        "    display_histogram2(train_leave, selected[4 * i + j], ax[i, j], 10)"
      ]
    },
    {
      "attachments": {},
      "cell_type": "markdown",
      "metadata": {
        "id": "SJHkqbcSPwMW"
      },
      "source": [
        "### T8. What kind of distribution should we use to model histograms? (Answer a distribution name) What is the MLE for the likelihood distribution? (Describe how to do the MLE). Plot the likelihood distributions of MonthlyIncome, JobRole, HourlyRate, and MaritalStatus for different Attrition values."
      ]
    },
    {
      "cell_type": "code",
      "execution_count": 394,
      "metadata": {},
      "outputs": [
        {
          "data": {
            "image/png": "[encoded data removed]",
            "text/plain": [
              "<Figure size 864x216 with 4 Axes>"
            ]
          },
          "metadata": {
            "needs_background": "light"
          },
          "output_type": "display_data"
        }
      ],
      "source": [
        "def divide_into_bins(data, n_bin):\n",
        " mn = np.nanmin(data)\n",
        " mx = np.nanmax(data)\n",
        " bin_size = (mx - mn) / n_bin\n",
        " bins = np.append(np.append(-np.inf, np.arange(mn, mx, bin_size)), np.inf)\n",
        " idx = np.digitize(data, bins)\n",
        " bin_cnt = np.bincount(idx)\n",
        " while (bin_cnt.shape[0] - 1 < bins.shape[0]):\n",
        "    bin_cnt = np.append(bin_cnt, 0)\n",
        " bin_cnt = bin_cnt / np.sum(bin_cnt)\n",
        "\n",
        " return bins, bin_cnt, bin_size\n",
        "def display_histogram_probs(bins, bin_cnt, cls, bin_size):\n",
        " cls.bar(bins[1:-1], bin_cnt[2:-1], width=bin_size, alpha=0.7)\n",
        " cls.set_title(col_name)\n",
        "\n",
        "\n",
        "col_names = [\"MonthlyIncome\", \"JobRole\", \"HourlyRate\", \"MaritalStatus\"]\n",
        "fig, ax = plt.subplots(1, 4, figsize=(12, 3))\n",
        "for j in range(4):\n",
        " col_name = col_names[j]\n",
        " stay_bins, stay_bin_cnt, stay_bin_size = divide_into_bins(train_stay[col_name], 10)\n",
        " leave_bins, leave_bin_cnt, leave_bin_size = divide_into_bins(train_leave[col_name], 10)\n",
        " stay_bins, stay_bin_cnt, stay_bin_size = divide_into_bins(train_stay[col_name][train_stay[col_name] != -1], 10)\n",
        " leave_bins, leave_bin_cnt, leave_bin_size = divide_into_bins(train_leave[col_name][train_leave[col_name] != -1], 10)\n",
        " display_histogram_probs(stay_bins, stay_bin_cnt, ax[j], stay_bin_size)\n",
        " display_histogram_probs(leave_bins, leave_bin_cnt, ax[j], leave_bin_size)"
      ]
    },
    {
      "attachments": {},
      "cell_type": "markdown",
      "metadata": {
        "id": "c_1EvThSWAwi"
      },
      "source": [
        "### T9. What is the prior distribution of the two classes?"
      ]
    },
    {
      "cell_type": "code",
      "execution_count": 395,
      "metadata": {},
      "outputs": [
        {
          "name": "stdout",
          "output_type": "stream",
          "text": [
            "Prior(leave): 0.16122448979591836\n",
            "Prior(stay): 0.8387755102040816\n"
          ]
        }
      ],
      "source": [
        "def get_prior(df, value):\n",
        "  return df.loc[df[\"Attrition\"] == value, \"Attrition\"].count() / df.shape[0]\n",
        "\n",
        "p_leave = get_prior(df, 1)\n",
        "p_stay = get_prior(df, 0)\n",
        "print(\"Prior(leave):\", p_leave)\n",
        "print(\"Prior(stay):\", p_stay)"
      ]
    },
    {
      "attachments": {},
      "cell_type": "markdown",
      "metadata": {
        "id": "JdEyB5Q7WSqI"
      },
      "source": [
        "### T10. If we use the current Naive Bayes with our current Maximum Likelihood Estimates, we will find that some P (x i |attrition) will be zero and will result in the entire product term to be zero. Propose a method to fix this problem."
      ]
    },
    {
      "cell_type": "markdown",
      "metadata": {},
      "source": [
        "ANS : 1)flooring : ถ้าเป็น 0 ให้เปลี่ยนเป็น ค่าที่น้อยมากๆแทนเช่น 1e-10\n",
        "      2)smoothing : เกลี่ยค่าจากข้างมา"
      ]
    },
    {
      "attachments": {},
      "cell_type": "markdown",
      "metadata": {
        "id": "17O4iza4WX1X"
      },
      "source": [
        "### T11. Implement your Naive Bayes classifier. Use the learned distributions to classify the test set. Don’t forget to allow your classifier to handle missing values in the test set. Report the overall Accuracy. Then, report the Precision, Recall, and F score for detecting attrition. See Lecture 1 for the definitions of each metric.\n"
      ]
    },
    {
      "cell_type": "code",
      "execution_count": 396,
      "metadata": {},
      "outputs": [],
      "source": [
        "class SimpleBayesClassifier:\n",
        "\n",
        "    def __init__(self, n_pos, n_neg):\n",
        "        \n",
        "        \"\"\"\n",
        "        Initializes the SimpleBayesClassifier with prior probabilities.\n",
        "\n",
        "        Parameters:\n",
        "        n_pos (int): The number of positive samples.\n",
        "        n_neg (int): The number of negative samples.\n",
        "        \n",
        "        Returns:\n",
        "        None: This method does not return anything as it is a constructor.\n",
        "        \"\"\"\n",
        "\n",
        "        self.n_pos =n_pos\n",
        "        self.n_neg =n_neg\n",
        "        self.prior_pos = n_pos/(n_pos+n_neg)\n",
        "        self.prior_neg =n_neg/(n_pos+n_neg)\n",
        "\n",
        "    def fit_params(self, x, y, n_bins = 10):\n",
        "\n",
        "        \"\"\"\n",
        "        Computes histogram-based parameters for each feature in the dataset.\n",
        "\n",
        "        Parameters:\n",
        "        x (np.ndarray): The feature matrix, where rows are samples and columns are features.\n",
        "        y (np.ndarray): The target array, where each element corresponds to the label of a sample.\n",
        "        n_bins (int): Number of bins to use for histogram calculation.\n",
        "\n",
        "        Returns:\n",
        "        (stay_params, leave_params): A tuple containing two lists of tuples, \n",
        "        one for 'stay' parameters and one for 'leave' parameters.\n",
        "        Each tuple in the list contains the bins and edges of the histogram for a feature.\n",
        "        \"\"\"        \n",
        "        \n",
        "        self.stay_params = [(None, None) for _ in range(x.shape[1])]\n",
        "        self.leave_params = [(None, None) for _ in range(x.shape[1])]\n",
        "\n",
        "        # INSERT CODE HERE\n",
        "        for i in range(x.shape[1]):\n",
        "            x_stay = x[y == 0, i]\n",
        "            x_stay=x_stay[~np.isnan(x_stay)]\n",
        "            x_leave = x[y == 1, i]\n",
        "            x_leave=x_leave[~np.isnan(x_leave)]\n",
        "            a,b=np.histogram(x_stay,n_bins)\n",
        "            a=a/x_stay.shape[0]\n",
        "            self.stay_params[i]=(a,b)\n",
        "            a,b=np.histogram(x_leave,n_bins)\n",
        "            a=a/x_leave.shape[0]\n",
        "            self.leave_params[i]=(a,b)\n",
        "        return self.stay_params, self.leave_params\n",
        "    \n",
        "    def H(self,x):\n",
        "        result=(self.prior_pos/self.prior_neg)\n",
        "        for i in range(len(x)):\n",
        "            if(math.isnan(x[i])):\n",
        "                continue\n",
        "            \n",
        "            b=0\n",
        "            if x[i]<self.leave_params[i][1][0]:\n",
        "                b=0\n",
        "            elif x[i]>=self.leave_params[i][1][-2]:\n",
        "                b=len(self.leave_params[i][0])-1\n",
        "            else:\n",
        "                for j in range(1,len(self.leave_params[i][1])-1,1):\n",
        "                    if(self.leave_params[i][1][j-1]<x[i]<=self.leave_params[i][1][j+1]):\n",
        "                        b=j\n",
        "                        break\n",
        "            \n",
        "            if(self.leave_params[i][0][b]<=1e-10 or self.stay_params[i][0][b]<=1e-10):\n",
        "                continue\n",
        "            else:\n",
        "                result=result*self.leave_params[i][0][b]\n",
        "                result=result/self.stay_params[i][0][b]        \n",
        "        return result\n",
        "    \n",
        "    def predict(self, x, thresh = 1):\n",
        "\n",
        "        \"\"\"\n",
        "        Predicts the class labels for the given samples using the non-parametric model.\n",
        "\n",
        "        Parameters:\n",
        "        x (np.ndarray): The feature matrix for which predictions are to be made.\n",
        "        thresh (float): The threshold for log probability to decide between classes.\n",
        "\n",
        "        Returns:\n",
        "        result (list): A list of predicted class labels (0 or 1) for each sample in the feature matrix.\n",
        "        \"\"\"\n",
        "\n",
        "        y_pred = []\n",
        "        \n",
        "        # INSERT CODE HERE\n",
        "        for i in range(x.shape[0]):\n",
        "            if self.H(x[i])>=thresh :\n",
        "                y_pred.append(1)\n",
        "            else:\n",
        "                y_pred.append(0)\n",
        "\n",
        "        return y_pred\n",
        "    \n",
        "    def fit_gaussian_params(self, x, y):\n",
        "\n",
        "        \"\"\"\n",
        "        Computes mean and standard deviation for each feature in the dataset.\n",
        "\n",
        "        Parameters:\n",
        "        x (np.ndarray): The feature matrix, where rows are samples and columns are features.\n",
        "        y (np.ndarray): The target array, where each element corresponds to the label of a sample.\n",
        "\n",
        "        Returns:\n",
        "        (gaussian_stay_params, gaussian_leave_params): A tuple containing two lists of tuples,\n",
        "        one for 'stay' parameters and one for 'leave' parameters.\n",
        "        Each tuple in the list contains the mean and standard deviation for a feature.\n",
        "        \"\"\"\n",
        "\n",
        "        self.gaussian_stay_params = [(0, 0) for _ in range(x.shape[1])]\n",
        "        self.gaussian_leave_params = [(0, 0) for _ in range(x.shape[1])]\n",
        "\n",
        "        # INSERT CODE HERE\n",
        "        for i in range(x.shape[1]):\n",
        "            x_stay = x[y == 0, i]\n",
        "            x_leave = x[y == 1, i]  \n",
        "            x_stay=x_stay[~np.isnan(x_stay)]\n",
        "            x_leave=x_leave[~np.isnan(x_leave)]\n",
        "            self.gaussian_stay_params[i]=(np.mean(x_stay),np.var(x_stay))\n",
        "            self.gaussian_leave_params[i]=(np.mean(x_leave),np.var(x_leave))\n",
        "        \n",
        "        \n",
        "        return self.gaussian_stay_params, self.gaussian_leave_params\n",
        "    \n",
        "    def gaussian(self,x,mean,sigma_2):\n",
        "        return (1 / (math.sqrt(2 * math.pi * sigma_2))) * np.exp(-(x - mean)**2 / (2 * sigma_2))\n",
        "    \n",
        "    def calP(self,x):\n",
        "        result = (self.prior_pos/self.prior_neg)\n",
        "        for i in range(len(x)):\n",
        "            if(math.isnan(x[i])):\n",
        "                continue\n",
        "            \n",
        "            result*=self.gaussian(x[i],self.gaussian_leave_params[i][0],self.gaussian_leave_params[i][1])\n",
        "            result/=self.gaussian(x[i],self.gaussian_stay_params[i][0],self.gaussian_stay_params[i][1])\n",
        "        return result\n",
        "    \n",
        "    def gaussian_predict(self, x, thresh = 1):\n",
        "\n",
        "        \"\"\"\n",
        "        Predicts the class labels for the given samples using the parametric model.\n",
        "\n",
        "        Parameters:\n",
        "        x (np.ndarray): The feature matrix for which predictions are to be made.\n",
        "        thresh (float): The threshold for log probability to decide between classes.\n",
        "\n",
        "        Returns:\n",
        "        result (list): A list of predicted class labels (0 or 1) for each sample in the feature matrix.\n",
        "        \"\"\"\n",
        "\n",
        "        y_pred = []\n",
        "        \n",
        "        \n",
        "        for i in range(x.shape[0]):\n",
        "            if self.calP(x[i])>=thresh :\n",
        "                y_pred.append(1)\n",
        "            else:\n",
        "                y_pred.append(0)\n",
        "\n",
        "        return y_pred"
      ]
    },
    {
      "cell_type": "code",
      "execution_count": 397,
      "metadata": {},
      "outputs": [],
      "source": [
        "X_train_leave = X_train.loc[df[\"Attrition\"] == 1.0].copy()\n",
        "X_train_stay  = X_train.loc[df[\"Attrition\"] == 0.0].copy()"
      ]
    },
    {
      "cell_type": "code",
      "execution_count": 398,
      "metadata": {},
      "outputs": [],
      "source": [
        "model = SimpleBayesClassifier(n_pos =X_train_leave.shape[0] , n_neg = X_train_stay.shape[0])"
      ]
    },
    {
      "cell_type": "code",
      "execution_count": 399,
      "metadata": {},
      "outputs": [],
      "source": [
        "def check_prior():\n",
        "    \"\"\"\n",
        "    This function designed to test the implementation of the prior probability calculation in a Naive Bayes classifier. \n",
        "    Specifically, it checks if the classifier correctly computes the prior probabilities for the \n",
        "    negative and positive classes based on given input counts.\n",
        "    \"\"\"\n",
        "    \n",
        "    # prior_neg = 5/(5 + 5) = 0.5 and # prior_pos = 5/(5 + 5) = 0.5\n",
        "    assert (SimpleBayesClassifier(5, 5).prior_pos, SimpleBayesClassifier(5, 5).prior_neg) == (0.5, 0.5)\n",
        "\n",
        "    assert (SimpleBayesClassifier(3, 5).prior_pos, SimpleBayesClassifier(3, 5).prior_neg) == (3/(3+5),5/(3+5))\n",
        "    assert (SimpleBayesClassifier(0, 1).prior_pos, SimpleBayesClassifier(0, 1).prior_neg) == (0/(1+0),1/(1+0))\n",
        "    assert (SimpleBayesClassifier(1, 0).prior_pos, SimpleBayesClassifier(1, 0).prior_neg) == (1/(1+0),0/(1+0))\n",
        "    \n",
        "check_prior()"
      ]
    },
    {
      "cell_type": "code",
      "execution_count": 400,
      "metadata": {},
      "outputs": [],
      "source": [
        "a,b=model.fit_params(X_train.to_numpy(), y_train.to_numpy())"
      ]
    },
    {
      "cell_type": "code",
      "execution_count": 401,
      "metadata": {},
      "outputs": [
        {
          "name": "stdout",
          "output_type": "stream",
          "text": [
            "STAY PARAMETERS\n",
            "Feature : 0\n",
            "BINS : [0.5 0.  0.  0.  0.  0.  0.  0.  0.  0.5]\n",
            "EDGES : [0.  0.2 0.4 0.6 0.8 1.  1.2 1.4 1.6 1.8 2. ]\n",
            "Feature : 1\n",
            "BINS : [0.5 0.  0.  0.  0.  0.  0.  0.  0.  0.5]\n",
            "EDGES : [1.  1.2 1.4 1.6 1.8 2.  2.2 2.4 2.6 2.8 3. ]\n",
            "Feature : 2\n",
            "BINS : [0.5 0.  0.  0.  0.  0.  0.  0.  0.  0.5]\n",
            "EDGES : [2.  2.2 2.4 2.6 2.8 3.  3.2 3.4 3.6 3.8 4. ]\n",
            "Feature : 3\n",
            "BINS : [0.5 0.  0.  0.  0.  0.  0.  0.  0.  0.5]\n",
            "EDGES : [3.  3.2 3.4 3.6 3.8 4.  4.2 4.4 4.6 4.8 5. ]\n",
            "\n",
            "LEAVE PARAMETERS\n",
            "Feature : 0\n",
            "BINS : [0.5 0.  0.  0.  0.  0.  0.  0.  0.  0.5]\n",
            "EDGES : [1.  1.2 1.4 1.6 1.8 2.  2.2 2.4 2.6 2.8 3. ]\n",
            "Feature : 1\n",
            "BINS : [0.5 0.  0.  0.  0.  0.  0.  0.  0.  0.5]\n",
            "EDGES : [2.  2.2 2.4 2.6 2.8 3.  3.2 3.4 3.6 3.8 4. ]\n",
            "Feature : 2\n",
            "BINS : [0.5 0.  0.  0.  0.  0.  0.  0.  0.  0.5]\n",
            "EDGES : [3.  3.2 3.4 3.6 3.8 4.  4.2 4.4 4.6 4.8 5. ]\n",
            "Feature : 3\n",
            "BINS : [0.5 0.  0.  0.  0.  0.  0.  0.  0.  0.5]\n",
            "EDGES : [4.  4.2 4.4 4.6 4.8 5.  5.2 5.4 5.6 5.8 6. ]\n"
          ]
        }
      ],
      "source": [
        "def check_fit_params():\n",
        "\n",
        "    \"\"\"\n",
        "    This function is designed to test the fit_params method of a SimpleBayesClassifier. \n",
        "    This method is presumably responsible for computing parameters for a Naive Bayes classifier \n",
        "    based on the provided training data. The parameters in this context is bins and edges from each histogram.\n",
        "    \"\"\"\n",
        "\n",
        "    T = SimpleBayesClassifier(2, 2)\n",
        "    X_TRAIN_CASE_1 = np.array([\n",
        "        [0, 1, 2, 3],\n",
        "        [1, 2, 3, 4],\n",
        "        [2, 3, 4, 5],\n",
        "        [3, 4, 5, 6]\n",
        "    ])\n",
        "    Y_TRAIN_CASE_1 = np.array([0, 1, 0, 1])\n",
        "    STAY_PARAMS_1, LEAVE_PARAMS_1 = T.fit_params(X_TRAIN_CASE_1, Y_TRAIN_CASE_1)\n",
        "\n",
        "    print(\"STAY PARAMETERS\")\n",
        "    for f_idx in range(len(STAY_PARAMS_1)):\n",
        "        print(f\"Feature : {f_idx}\")\n",
        "        print(f\"BINS : {STAY_PARAMS_1[f_idx][0]}\")\n",
        "        print(f\"EDGES : {STAY_PARAMS_1[f_idx][1]}\")\n",
        "    print(\"\")    \n",
        "    print(\"LEAVE PARAMETERS\")\n",
        "    for f_idx in range(len(STAY_PARAMS_1)):\n",
        "        print(f\"Feature : {f_idx}\")\n",
        "        print(f\"BINS : {LEAVE_PARAMS_1[f_idx][0]}\")\n",
        "        print(f\"EDGES : {LEAVE_PARAMS_1[f_idx][1]}\")\n",
        "\n",
        "check_fit_params()"
      ]
    },
    {
      "cell_type": "code",
      "execution_count": 402,
      "metadata": {
        "id": "yRoC5CEqopSR"
      },
      "outputs": [
        {
          "name": "stdout",
          "output_type": "stream",
          "text": [
            "T11\n",
            "[0, 0, 0, 0, 0, 0, 1, 0, 0, 1, 0, 0, 0, 0, 0, 1, 1, 0, 0, 0, 0, 0, 0, 0, 1, 0, 0, 0, 0, 0, 0, 1, 0, 0, 0, 0, 0, 0, 0, 0, 1, 0, 1, 0, 0, 0, 0, 0, 0, 0, 0, 0, 1, 0, 0, 0, 1, 0, 1, 0, 0, 0, 0, 0, 0, 0, 0, 0, 1, 0, 0, 0, 1, 0, 0, 0, 0, 0, 0, 0, 0, 0, 0, 0, 0, 0, 0, 0, 0, 0, 0, 0, 0, 0, 0, 0, 0, 0, 0, 0, 0, 0, 0, 1, 0, 0, 0, 0, 0, 0, 0, 0, 0, 1, 0, 1, 0, 0, 0, 0, 0, 1, 0, 0, 0, 0, 0, 0, 0, 0, 0, 0, 0, 0, 0, 0, 0, 1, 0, 0, 0, 1, 0, 0, 0, 0, 0]\n"
          ]
        }
      ],
      "source": [
        "y_pred = model.predict(X_test.to_numpy())\n",
        "print(\"T11\")\n",
        "print(y_pred)"
      ]
    },
    {
      "cell_type": "code",
      "execution_count": 403,
      "metadata": {
        "id": "ICDb3zONzk_r"
      },
      "outputs": [],
      "source": [
        "def evaluate(y_test, y_pred):\n",
        "  tp,tn,fp,fn=0,0,0,0\n",
        "  for i in range(len(y_pred)):\n",
        "    if(y_pred[i]==0 and y_test[i]==0):\n",
        "      tp+=1\n",
        "    elif(y_pred[i]==0 and y_test[i]==1):\n",
        "      fp+=1\n",
        "    elif(y_pred[i]==1 and y_test[i]==0):\n",
        "      fn+=1\n",
        "    else:\n",
        "      tn+=1\n",
        "  \n",
        "\n",
        "  return  tp,tn,fp,fn"
      ]
    },
    {
      "cell_type": "code",
      "execution_count": 404,
      "metadata": {
        "colab": {
          "base_uri": "https://localhost:8080/"
        },
        "id": "ISYoqxHpF-3n",
        "outputId": "52dcd5c4-c1f2-417d-b34b-f96c66f136ed"
      },
      "outputs": [
        {
          "name": "stdout",
          "output_type": "stream",
          "text": [
            "accuracy :  0.8775510204081632\n",
            "precision :  0.9296875\n",
            "recall :  0.9296875\n",
            "f1 :  0.9296875\n"
          ]
        }
      ],
      "source": [
        "tp,tn,fp,fn=evaluate(y_test.to_numpy(), y_pred)\n",
        "accuracy = (tp+tn)/(tp+tn+fp+fn)\n",
        "precision = tp/(tp+fp)\n",
        "recall = tp/(tp+fn)\n",
        "f1=(2*(precision)*(recall))/(precision+recall)\n",
        "print(\"accuracy : \",accuracy)\n",
        "print(\"precision : \",precision)\n",
        "print(\"recall : \",recall)\n",
        "print(\"f1 : \",f1) "
      ]
    },
    {
      "attachments": {},
      "cell_type": "markdown",
      "metadata": {
        "id": "WMAR2VHjFtRY"
      },
      "source": [
        "### T12. Use the learned distributions to classify the test set. Report the results using the same metric as the previous question.\n"
      ]
    },
    {
      "cell_type": "code",
      "execution_count": 405,
      "metadata": {
        "id": "Lc1T-WVrFsyQ"
      },
      "outputs": [
        {
          "name": "stdout",
          "output_type": "stream",
          "text": [
            "T12\n"
          ]
        },
        {
          "data": {
            "text/plain": [
              "([(37.923863636363635, 80.18624870867768),\n",
              "  (1.0714932126696832, 1.4763366843430723),\n",
              "  (808.623172103487, 162078.18533481963),\n",
              "  (0.7981900452488688, 0.9936618824348398),\n",
              "  (9.026136363636363, 65.89136234504133),\n",
              "  (2.93609865470852, 1.0799973355587285),\n",
              "  (1.602714932126697, 3.1064179685100632),\n",
              "  (2.778275475923852, 1.135608672153329),\n",
              "  (0.2642533936651584, 0.5889936733482115),\n",
              "  (66.07613636363637, 412.1953396177685),\n",
              "  (2.781426953567384, 0.46524960593262177),\n",
              "  (2.183371298405467, 1.2704751947115256),\n",
              "  (3.2841628959276017, 9.343685837718311),\n",
              "  (2.7771493212669682, 1.2139122356217114),\n",
              "  (0.6479638009049774, 1.0787854466534261),\n",
              "  (6884.5, 23374549.48755656),\n",
              "  (14218.990980834273, 50121922.50499194),\n",
              "  (2.6980703745743475, 6.126772667011096),\n",
              "  (0.005429864253393665, 0.38006101431174627),\n",
              "  (15.262857142857143, 13.060048979591835),\n",
              "  (3.1455981941309257, 0.12439935999673883),\n",
              "  (2.7317620650953987, 1.1727173216136928),\n",
              "  (0.8038548752834467, 0.6588060016145536),\n",
              "  (11.940045248868778, 62.13780814274891),\n",
              "  (2.8277027027027026, 1.6854037314341368),\n",
              "  (2.790909090909091, 0.46309917355371905),\n",
              "  (7.417995444191344, 39.09748937583346),\n",
              "  (4.437570303712036, 13.067249889601822),\n",
              "  (2.200458190148912, 10.14881995042834),\n",
              "  (4.318493150684931, 12.737603208857196)],\n",
              " [(33.548022598870055, 98.69967123112771),\n",
              "  (1.114678899082569, 1.3308854473529164),\n",
              "  (750.6768292682926, 169437.25531677576),\n",
              "  (0.7660550458715596, 1.2342605841259153),\n",
              "  (10.88950276243094, 71.75574616159457),\n",
              "  (2.8131868131868134, 1.0530129211447894),\n",
              "  (1.651376146788991, 3.4656173722750614),\n",
              "  (2.4850299401197606, 1.3515723044928105),\n",
              "  (0.29357798165137616, 0.6018853631849169),\n",
              "  (65.16279069767442, 411.415359653867),\n",
              "  (2.5195530726256985, 0.5736400237196092),\n",
              "  (1.6519337016574585, 0.9230487469857453),\n",
              "  (3.7660550458715596, 10.133343152933254),\n",
              "  (2.5714285714285716, 1.1820408163265308),\n",
              "  (0.8440366972477065, 1.3976937968184495),\n",
              "  (4690.156976744186, 13461904.725358304),\n",
              "  (14162.290697674418, 51622148.9736344),\n",
              "  (2.9497206703910615, 7.299147966667706),\n",
              "  (0.16972477064220184, 0.6088081811295345),\n",
              "  (14.983333333333333, 13.93861111111111),\n",
              "  (3.153409090909091, 0.12987474173553723),\n",
              "  (2.5654761904761907, 1.281427154195011),\n",
              "  (0.47752808988764045, 0.6652253503345538),\n",
              "  (8.549707602339181, 54.890804008070866),\n",
              "  (2.6089385474860336, 1.567741331419119),\n",
              "  (2.697674418604651, 0.699296917252569),\n",
              "  (5.362068965517241, 31.909135949266748),\n",
              "  (3.309941520467836, 11.360076604767277),\n",
              "  (1.9942857142857142, 10.131395918367348),\n",
              "  (2.9887005649717513, 10.564844074180474)])"
            ]
          },
          "execution_count": 405,
          "metadata": {},
          "output_type": "execute_result"
        }
      ],
      "source": [
        "print(\"T12\")\n",
        "model.fit_gaussian_params(X_train.to_numpy(), y_train)"
      ]
    },
    {
      "cell_type": "code",
      "execution_count": 406,
      "metadata": {},
      "outputs": [
        {
          "name": "stdout",
          "output_type": "stream",
          "text": [
            "STAY PARAMETERS\n",
            "Feature : 0\n",
            "Mean : 1.0\n",
            "STD. : 1.0\n",
            "Feature : 1\n",
            "Mean : 2.0\n",
            "STD. : 1.0\n",
            "Feature : 2\n",
            "Mean : 3.0\n",
            "STD. : 1.0\n",
            "Feature : 3\n",
            "Mean : 4.0\n",
            "STD. : 1.0\n",
            "\n",
            "LEAVE PARAMETERS\n",
            "Feature : 0\n",
            "Mean : 2.0\n",
            "STD. : 1.0\n",
            "Feature : 1\n",
            "Mean : 3.0\n",
            "STD. : 1.0\n",
            "Feature : 2\n",
            "Mean : 4.0\n",
            "STD. : 1.0\n",
            "Feature : 3\n",
            "Mean : 5.0\n",
            "STD. : 1.0\n"
          ]
        }
      ],
      "source": [
        "def check_fit_gaussian_params():\n",
        "\n",
        "    \"\"\"\n",
        "    This function is designed to test the fit_gaussian_params method of a SimpleBayesClassifier. \n",
        "    This method is presumably responsible for computing parameters for a Naive Bayes classifier \n",
        "    based on the provided training data. The parameters in this context is mean and STD.\n",
        "    \"\"\"\n",
        "\n",
        "    T = SimpleBayesClassifier(2, 2)\n",
        "    X_TRAIN_CASE_1 = np.array([\n",
        "        [0, 1, 2, 3],\n",
        "        [1, 2, 3, 4],\n",
        "        [2, 3, 4, 5],\n",
        "        [3, 4, 5, 6]\n",
        "    ])\n",
        "    Y_TRAIN_CASE_1 = np.array([0, 1, 0, 1])\n",
        "    STAY_PARAMS_1, LEAVE_PARAMS_1 = T.fit_gaussian_params(X_TRAIN_CASE_1, Y_TRAIN_CASE_1)\n",
        "\n",
        "    print(\"STAY PARAMETERS\")\n",
        "    for f_idx in range(len(STAY_PARAMS_1)):\n",
        "        print(f\"Feature : {f_idx}\")\n",
        "        print(f\"Mean : {STAY_PARAMS_1[f_idx][0]}\")\n",
        "        print(f\"STD. : {STAY_PARAMS_1[f_idx][1]}\")\n",
        "    print(\"\")    \n",
        "    print(\"LEAVE PARAMETERS\")\n",
        "    for f_idx in range(len(STAY_PARAMS_1)):\n",
        "        print(f\"Feature : {f_idx}\")\n",
        "        print(f\"Mean : {LEAVE_PARAMS_1[f_idx][0]}\")\n",
        "        print(f\"STD. : {LEAVE_PARAMS_1[f_idx][1]}\")\n",
        "    \n",
        "check_fit_gaussian_params()"
      ]
    },
    {
      "cell_type": "code",
      "execution_count": 407,
      "metadata": {
        "id": "lIB77js3Gq_N"
      },
      "outputs": [
        {
          "name": "stdout",
          "output_type": "stream",
          "text": [
            "T12\n",
            "[0, 1, 0, 1, 0, 0, 1, 0, 0, 1, 0, 0, 0, 0, 0, 1, 1, 0, 0, 0, 1, 0, 1, 0, 0, 0, 1, 0, 0, 0, 1, 0, 1, 0, 0, 0, 0, 1, 0, 0, 0, 0, 1, 1, 0, 0, 0, 0, 0, 0, 0, 0, 1, 0, 0, 0, 1, 1, 1, 1, 0, 0, 0, 0, 0, 0, 0, 0, 1, 0, 0, 0, 0, 0, 0, 0, 0, 0, 0, 0, 0, 0, 0, 0, 1, 0, 0, 0, 0, 0, 0, 0, 0, 0, 0, 0, 0, 0, 0, 0, 1, 0, 0, 1, 0, 1, 0, 0, 0, 0, 1, 0, 1, 1, 0, 1, 0, 0, 0, 1, 0, 0, 0, 0, 0, 0, 0, 0, 0, 0, 0, 0, 0, 0, 0, 0, 1, 1, 0, 0, 0, 1, 0, 0, 0, 0, 0]\n"
          ]
        }
      ],
      "source": [
        "y_pred = model.gaussian_predict(X_test.to_numpy())\n",
        "print(\"T12\")\n",
        "print(y_pred)"
      ]
    },
    {
      "cell_type": "code",
      "execution_count": 408,
      "metadata": {
        "colab": {
          "base_uri": "https://localhost:8080/"
        },
        "id": "E9klPSVfHROD",
        "outputId": "cda67822-6b24-44eb-fdee-63af89557f08"
      },
      "outputs": [
        {
          "name": "stdout",
          "output_type": "stream",
          "text": [
            "accuracy :  0.7891156462585034\n",
            "precision :  0.9217391304347826\n",
            "recall :  0.828125\n",
            "f1 :  0.8724279835390947\n"
          ]
        }
      ],
      "source": [
        "tp,tn,fp,fn=evaluate(y_test.to_numpy(), y_pred)\n",
        "\n",
        "accuracy = (tp+tn)/(tp+tn+fp+fn)\n",
        "precision = tp/(tp+fp)\n",
        "recall = tp/(tp+fn)\n",
        "f1=(2*(precision)*(recall))/(precision+recall)\n",
        "\n",
        "print(\"accuracy : \",accuracy)\n",
        "print(\"precision : \",precision)\n",
        "print(\"recall : \",recall)\n",
        "print(\"f1 : \",f1) "
      ]
    },
    {
      "attachments": {},
      "cell_type": "markdown",
      "metadata": {
        "id": "qvJd3MoWIR3c"
      },
      "source": [
        "### T13 : The random choice baseline is the accuracy if you make a random guess for each test sample. Give random guess (50% leaving, and 50% staying) to the test samples. Report the overall Accuracy. Then, report the Precision, Recall, and F score for attrition prediction using the random choice baseline."
      ]
    },
    {
      "cell_type": "code",
      "execution_count": 409,
      "metadata": {},
      "outputs": [
        {
          "name": "stdout",
          "output_type": "stream",
          "text": [
            "T13)random\n",
            "accuracy :  0.5714285714285714\n",
            "precision :  0.922077922077922\n",
            "recall :  0.5546875\n",
            "f1 :  0.6926829268292682\n"
          ]
        }
      ],
      "source": [
        "rand_y_pred= np.random.randint(2, size=y_test.shape[0])\n",
        "tp,tn,fp,fn=evaluate(y_test.to_numpy(), rand_y_pred)\n",
        "accuracy = (tp+tn)/(tp+tn+fp+fn)\n",
        "precision = tp/(tp+fp)\n",
        "recall = tp/(tp+fn)\n",
        "f1=(2*(precision)*(recall))/(precision+recall)\n",
        "\n",
        "print(\"T13)random\")\n",
        "print(\"accuracy : \",accuracy)\n",
        "print(\"precision : \",precision)\n",
        "print(\"recall : \",recall)\n",
        "print(\"f1 : \",f1) \n"
      ]
    },
    {
      "attachments": {},
      "cell_type": "markdown",
      "metadata": {
        "id": "-vbVLuCDIxNx"
      },
      "source": [
        "### T14. The majority rule is the accuracy if you use the most frequent class from the training set as the classification decision. Report the overall Accuracy. Then, report the Precision, Recall, and F score for attrition prediction using the majority rule baseline.\n",
        "\n"
      ]
    },
    {
      "cell_type": "code",
      "execution_count": 410,
      "metadata": {},
      "outputs": [
        {
          "name": "stdout",
          "output_type": "stream",
          "text": [
            "T14)random\n",
            "accuracy :  0.8707482993197279\n",
            "precision :  0.8707482993197279\n",
            "recall :  1.0\n",
            "f1 :  0.9309090909090908\n"
          ]
        }
      ],
      "source": [
        "zero_y_pred= np.zeros(y_test.shape[0])\n",
        "\n",
        "tp,tn,fp,fn=evaluate(y_test.to_numpy(), zero_y_pred)\n",
        "accuracy = (tp+tn)/(tp+tn+fp+fn)\n",
        "precision = tp/(tp+fp)\n",
        "recall = tp/(tp+fn)\n",
        "f1=(2*(precision)*(recall))/(precision+recall)\n",
        "print(\"T14)Majority \")\n",
        "print(\"accuracy : \",accuracy)\n",
        "print(\"precision : \",precision)\n",
        "print(\"recall : \",recall)\n",
        "print(\"f1 : \",f1) \n"
      ]
    },
    {
      "attachments": {},
      "cell_type": "markdown",
      "metadata": {
        "id": "QJ6-fMVVJZcH"
      },
      "source": [
        "### T15. Compare the two baselines with your Naive Bayes classifier.\n"
      ]
    },
    {
      "attachments": {},
      "cell_type": "markdown",
      "metadata": {
        "id": "jkX76nMpKVMR"
      },
      "source": [
        "### T16. Use the following threshold values\n",
        "$ t = np.arange(-5,5,0.05) $\n",
        "### find the best accuracy, and F score (and the corresponding thresholds)\n"
      ]
    },
    {
      "cell_type": "code",
      "execution_count": 411,
      "metadata": {},
      "outputs": [
        {
          "name": "stdout",
          "output_type": "stream",
          "text": [
            "T16) max\n",
            "max accuracy , thresholds :  0.891156462585034 3.200000000000002\n",
            "max precision , thresholds :  0.9302325581395349 1.05\n",
            "max recall , thresholds :  1.0 9.950000000000008\n",
            "max f1 , thresholds :  0.9393939393939394 3.200000000000002\n"
          ]
        }
      ],
      "source": [
        "t = np.arange(1,10,0.05)#ไม่ได้ใช้สูตร log H>=1\n",
        "maxacc,maxpreci,maxrecal,maxf1=0,0,0,0\n",
        "threacc,threpreci,threrecal,thref1=0,0,0,0\n",
        "for thre in t:\n",
        "    y_pred = model.predict(X_test.to_numpy(),thre)\n",
        "    tp,tn,fp,fn=evaluate(y_test.to_numpy(), y_pred)[0:4]\n",
        "    accuracy = (tp+tn)/(tp+tn+fp+fn)\n",
        "    precision = tp/(tp+fp)\n",
        "    recall = tp/(tp+fn)\n",
        "    f1=(2*(precision)*(recall))/(precision+recall)\n",
        "    if(accuracy>=maxacc):\n",
        "        maxacc=accuracy\n",
        "        threacc=thre\n",
        "    if(precision>=maxpreci):\n",
        "        maxpreci=precision\n",
        "        threpreci=thre\n",
        "    if(recall>=maxrecal):\n",
        "        maxrecal=recall\n",
        "        threrecal=thre\n",
        "    if(f1>=maxf1):\n",
        "        maxf1=f1\n",
        "        thref1=thre\n",
        "print(\"T16) max\")\n",
        "\n",
        "print(\"max accuracy , thresholds : \",maxacc,threacc)\n",
        "print(\"max precision , thresholds : \",maxpreci,threpreci)\n",
        "print(\"max recall , thresholds : \",maxrecal,threrecal)\n",
        "print(\"max f1 , thresholds : \",maxf1,thref1)\n",
        "    "
      ]
    },
    {
      "attachments": {},
      "cell_type": "markdown",
      "metadata": {
        "id": "df3wpyLtUMKl"
      },
      "source": [
        "### T17. Plot the RoC of your classifier."
      ]
    },
    {
      "cell_type": "code",
      "execution_count": 412,
      "metadata": {},
      "outputs": [
        {
          "data": {
            "image/png": "[encoded data removed]",
            "text/plain": [
              "<Figure size 432x288 with 1 Axes>"
            ]
          },
          "metadata": {
            "needs_background": "light"
          },
          "output_type": "display_data"
        }
      ],
      "source": [
        "thresholds=np.arange(-100,100,0.05)\n",
        "xNonPara,yNonPara=[],[]\n",
        "xPara,yPara=[],[]\n",
        "for thre in thresholds:\n",
        "    y_pred=model.predict(X_test.to_numpy(),thre)\n",
        "    tp,tn,fp,fn=evaluate(y_test.to_numpy(),y_pred)\n",
        "    xNonPara.append(fp/(fp+tn))\n",
        "    yNonPara.append(tp/(tp+fn))    \n",
        "    y_pred=model.gaussian_predict(X_test.to_numpy(),thre)\n",
        "    tp,tn,fp,fn=evaluate(y_test.to_numpy(),y_pred)\n",
        "    xPara.append(fp/(fp+tn))\n",
        "    yPara.append(tp/(tp+fn))\n",
        "    plt.plot([0, 1], [0, 1], \"--\", alpha=0.5)\n",
        "    plt.plot(xNonPara,yNonPara,'-',color=\"blue\",label=\"Non Parametric\")\n",
        "    plt.plot(xPara,yPara,'-',color=\"red\",label=\"Parametric\")\n",
        "    plt.xlabel(\"fp Rate\")\n",
        "    plt.ylabel(\"tp Rate\")\n",
        "    plt.legend()\n",
        "    plt.show()\n",
        "    \n",
        "    \n"
      ]
    },
    {
      "attachments": {},
      "cell_type": "markdown",
      "metadata": {
        "id": "ozvzlJyxZbH3"
      },
      "source": [
        "### T18. Change the number of discretization bins to 5. What happens to the RoC curve? Which discretization is better? The number of discretization bins can be considered as a hyperparameter, and must be chosen by comparing the final performance.\n"
      ]
    },
    {
      "cell_type": "code",
      "execution_count": 413,
      "metadata": {},
      "outputs": [
        {
          "data": {
            "image/png": "[encoded data removed]",
            "text/plain": [
              "<Figure size 432x288 with 1 Axes>"
            ]
          },
          "metadata": {
            "needs_background": "light"
          },
          "output_type": "display_data"
        }
      ],
      "source": [
        "a,b=model.fit_params(X_train.to_numpy(), y_train.to_numpy(),5)\n",
        "xNonPara,yNonPara=[],[]\n",
        "xPara,yPara=[],[]\n",
        "for thre in thresholds:\n",
        "    y_pred=model.predict(X_test.to_numpy(),thre)\n",
        "    tp,tn,fp,fn=evaluate(y_test.to_numpy(),y_pred)\n",
        "    xNonPara.append(fp/(fp+tn))\n",
        "    yNonPara.append(tp/(tp+fn)) \n",
        "    y_pred=model.gaussian_predict(X_test.to_numpy(),thre)\n",
        "    tp,tn,fp,fn=evaluate(y_test.to_numpy(),y_pred)\n",
        "    xPara.append(fp/(fp+tn))\n",
        "    yPara.append(tp/(tp+fn))\n",
        "plt.plot([0, 1], [0, 1], \"--\", alpha=0.5)\n",
        "plt.plot(xNonPara,yNonPara,'-',color=\"blue\",label=\"Non Parametric\")\n",
        "plt.plot(xPara,yPara,'-',color=\"red\",label=\"Parametric\")\n",
        "plt.xlabel(\"fp Rate\")\n",
        "plt.ylabel(\"tp Rate\")\n",
        "plt.legend()\n",
        "plt.show()"
      ]
    },
    {
      "cell_type": "markdown",
      "metadata": {},
      "source": [
        "### OT3.Shuffle the database, and create new test and train sets. Redo the entire training and evaluation process 10 times (each time with a new training and test set). Calculate the mean and variance of the accuracy rate.\n"
      ]
    },
    {
      "cell_type": "code",
      "execution_count": 414,
      "metadata": {},
      "outputs": [
        {
          "name": "stdout",
          "output_type": "stream",
          "text": [
            "round 1 accuracy :  0.8231292517006803\n",
            "round 2 accuracy :  0.7891156462585034\n",
            "round 3 accuracy :  0.7959183673469388\n",
            "round 4 accuracy :  0.8503401360544217\n",
            "round 5 accuracy :  0.8095238095238095\n",
            "round 6 accuracy :  0.8095238095238095\n",
            "round 7 accuracy :  0.8435374149659864\n",
            "round 8 accuracy :  0.8503401360544217\n",
            "round 9 accuracy :  0.8163265306122449\n",
            "round 10 accuracy :  0.8367346938775511\n",
            "0.8224489795918368\n",
            "0.0004391688648248413\n"
          ]
        }
      ],
      "source": [
        "n_round=10\n",
        "lst_accuracy=[]\n",
        "for i in range(n_round):                                                                                                         #########\n",
        "    X_train, X_test, y_train, y_test=train_test_split(df.loc[:, ~df.columns.isin(['Attrition'])],df[\"Attrition\"],test_size=0.1,shuffle=True)\n",
        "    X_train_leave = X_train.loc[df[\"Attrition\"] == 1.0].copy()\n",
        "    X_train_stay  = X_train.loc[df[\"Attrition\"] == 0.0].copy()\n",
        "    OT3model = SimpleBayesClassifier(n_pos =X_train_leave.shape[0] , n_neg = X_train_stay.shape[0])\n",
        "    a,b=model.fit_params(X_train.to_numpy(), y_train.to_numpy())\n",
        "    y_pred = model.predict(X_test.to_numpy())\n",
        "    tp,tn,fp,fn=evaluate(y_test.to_numpy(),y_pred)\n",
        "    accuracy = (tp+tn)/(tp+tn+fp+fn)\n",
        "    print(\"round\",i+1,\"accuracy : \",accuracy)\n",
        "    lst_accuracy.append(accuracy)\n",
        "print(np.mean(lst_accuracy))   \n",
        "print(np.var(lst_accuracy))\n",
        "    "
      ]
    }
  ],
  "metadata": {
    "colab": {
      "provenance": [],
      "toc_visible": true
    },
    "kernelspec": {
      "display_name": "Python 3",
      "name": "python3"
    },
    "language_info": {
      "codemirror_mode": {
        "name": "ipython",
        "version": 3
      },
      "file_extension": ".py",
      "mimetype": "text/x-python",
      "name": "python",
      "nbconvert_exporter": "python",
      "pygments_lexer": "ipython3",
      "version": "3.9.12"
    }
  },
  "nbformat": 4,
  "nbformat_minor": 0
}
